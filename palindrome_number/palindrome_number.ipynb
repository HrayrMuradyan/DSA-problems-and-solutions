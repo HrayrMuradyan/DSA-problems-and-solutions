{
 "cells": [
  {
   "cell_type": "markdown",
   "id": "0e31804a-3caf-4f5e-9cb4-df628eaf8027",
   "metadata": {},
   "source": [
    "# Palindrome Number"
   ]
  },
  {
   "cell_type": "markdown",
   "id": "9fb8dcd3-77aa-420a-8278-dbbe49f95449",
   "metadata": {},
   "source": [
    "## Problem definition"
   ]
  },
  {
   "cell_type": "markdown",
   "id": "f19277ac-250c-431d-8122-acd39de24cf9",
   "metadata": {},
   "source": [
    "Given an integer x, return true if x is a palindrome, and false otherwise."
   ]
  },
  {
   "cell_type": "markdown",
   "id": "83c5009e-9ea5-470f-9ec3-14af84417f26",
   "metadata": {},
   "source": [
    "#### Example cases\n",
    "\n",
    "**Example 1:**\n",
    "\n",
    "Input: x = 121  \n",
    "Output: true  \n",
    "Explanation: 121 reads as 121 from left to right and from right to left.  \n",
    "\n",
    "**Example 2:**\n",
    "\n",
    "Input: x = -121  \n",
    "Output: false  \n",
    "Explanation: From left to right, it reads -121. From right to left, it becomes 121-. Therefore it is not a palindrome.\n",
    "\n",
    "**Example 3:**\n",
    "\n",
    "Input: x = 10  \n",
    "Output: false  \n",
    "Explanation: Reads 01 from right to left. Therefore it is not a palindrome."
   ]
  },
  {
   "cell_type": "markdown",
   "id": "5682d9a7-e646-49a7-91f6-8488f47c4344",
   "metadata": {},
   "source": [
    "#### Constraints:\n",
    "\n",
    "-231 <= x <= 231 - 1\n",
    "\n",
    "Follow up: Could you solve it without converting the integer to a string?"
   ]
  },
  {
   "cell_type": "markdown",
   "id": "ef37db68-35c4-451b-8602-187c4803f504",
   "metadata": {},
   "source": [
    "## Example test cases"
   ]
  },
  {
   "cell_type": "code",
   "execution_count": 1,
   "id": "04b5bcb4-12c6-4bd6-8fed-4f4dca6bc39f",
   "metadata": {},
   "outputs": [],
   "source": [
    "def test_cases():\n",
    "    assert isPalindrome(121) is True\n",
    "    assert isPalindrome(-121) is False\n",
    "    assert isPalindrome(10) is False\n",
    "    print(\"All test cases passed!\")"
   ]
  },
  {
   "cell_type": "markdown",
   "id": "7439f5d8-7156-4813-b13e-37d7b30c52bd",
   "metadata": {},
   "source": [
    "## Solutions"
   ]
  },
  {
   "cell_type": "markdown",
   "id": "9694db93-8db0-4302-b364-e19a2c8fc1d1",
   "metadata": {},
   "source": [
    "$O(n)$"
   ]
  },
  {
   "cell_type": "markdown",
   "id": "f05f2fd5-ac4f-4c6b-a839-d35778f504e2",
   "metadata": {},
   "source": [
    "Solving by converting the integer to string."
   ]
  },
  {
   "cell_type": "code",
   "execution_count": 2,
   "id": "1c598647-a974-4752-906a-fa923dda641a",
   "metadata": {},
   "outputs": [],
   "source": [
    "def isPalindrome(x):\n",
    "    x = str(x)\n",
    "    pointer1 = 0\n",
    "    pointer2 = len(x) - 1\n",
    "\n",
    "    while not (pointer1 > pointer2):\n",
    "        if x[pointer1] != x[pointer2]:\n",
    "            return False\n",
    "        pointer1 += 1\n",
    "        pointer2 -= 1\n",
    "    \n",
    "    return True"
   ]
  },
  {
   "cell_type": "code",
   "execution_count": 3,
   "id": "43939de1-7c5d-4193-bc08-e3dac221e9dc",
   "metadata": {},
   "outputs": [
    {
     "data": {
      "text/plain": [
       "False"
      ]
     },
     "execution_count": 3,
     "metadata": {},
     "output_type": "execute_result"
    }
   ],
   "source": [
    "isPalindrome(10)"
   ]
  },
  {
   "cell_type": "code",
   "execution_count": 4,
   "id": "3f15553d-c890-4815-b4a0-2cd75c097723",
   "metadata": {},
   "outputs": [
    {
     "name": "stdout",
     "output_type": "stream",
     "text": [
      "All test cases passed!\n"
     ]
    }
   ],
   "source": [
    "test_cases()"
   ]
  },
  {
   "cell_type": "markdown",
   "id": "5ef8efff-d641-4de3-a7ba-a57b8b2e090e",
   "metadata": {},
   "source": [
    "The problem is easy to solve when using two pointers method for strings. But since integers are not sequence objects, indexing doesn't work."
   ]
  },
  {
   "cell_type": "markdown",
   "id": "f27ca26c-bca0-4eba-9b93-d90e4c0a460b",
   "metadata": {},
   "source": [
    "$O(n)$"
   ]
  },
  {
   "cell_type": "markdown",
   "id": "5b254996-98ab-45d9-a0bf-2cc9ad05528e",
   "metadata": {},
   "source": [
    "Solving without converting the integer to string."
   ]
  },
  {
   "cell_type": "code",
   "execution_count": 5,
   "id": "51a22b11-c2b9-4cee-93e7-0e9db09e2670",
   "metadata": {},
   "outputs": [],
   "source": [
    "def isPalindrome(x):\n",
    "    inverse_num = 0\n",
    "    if (x < 0) or (x % 10 == 0 and x != 0):\n",
    "        return False\n",
    "    x_ = x\n",
    "    while x_ != 0:\n",
    "        inverse_num *= 10\n",
    "        remainder = x_ % 10\n",
    "        inverse_num += remainder\n",
    "        x_ = x_ // 10\n",
    "    return x == inverse_num"
   ]
  },
  {
   "cell_type": "code",
   "execution_count": 6,
   "id": "8e99f948-e3d4-41ab-a7c0-43a39a0a8733",
   "metadata": {},
   "outputs": [
    {
     "name": "stdout",
     "output_type": "stream",
     "text": [
      "All test cases passed!\n"
     ]
    }
   ],
   "source": [
    "test_cases()"
   ]
  },
  {
   "cell_type": "markdown",
   "id": "5db88b33-2fd7-434f-aef7-f496bc8eb859",
   "metadata": {},
   "source": [
    "For integers, the task is a bit complicated. The most straightforward way was to convert the integer to its inverse and see if the numbers are equal. Additionally, negative numbers and numbers ending with 0 are always False."
   ]
  },
  {
   "cell_type": "markdown",
   "id": "462d3712-b7c7-4899-b827-3ee235150656",
   "metadata": {},
   "source": [
    "`Modulus operator (%)` in python can be used for getting the remainder when divided by a certain number. To get the last digit of the number, we can do the following:"
   ]
  },
  {
   "cell_type": "code",
   "execution_count": 7,
   "id": "97d25747-2026-4d17-aab3-15399ac3c0f0",
   "metadata": {},
   "outputs": [
    {
     "data": {
      "text/plain": [
       "5"
      ]
     },
     "execution_count": 7,
     "metadata": {},
     "output_type": "execute_result"
    }
   ],
   "source": [
    "x = 13545\n",
    "x % 10"
   ]
  },
  {
   "cell_type": "markdown",
   "id": "b5780e6b-cb2c-4a1a-89fd-c61cecb418f5",
   "metadata": {},
   "source": [
    "Next digit, can be extracted by removing the last digit and again applying the same concept:"
   ]
  },
  {
   "cell_type": "code",
   "execution_count": 8,
   "id": "a4fdd08f-6f51-4985-bdad-22ea991e9cd3",
   "metadata": {},
   "outputs": [
    {
     "data": {
      "text/plain": [
       "1354"
      ]
     },
     "execution_count": 8,
     "metadata": {},
     "output_type": "execute_result"
    }
   ],
   "source": [
    "x // 10"
   ]
  },
  {
   "cell_type": "markdown",
   "id": "f95efc4d-c681-4b0c-bceb-ff9ff3ef3aaa",
   "metadata": {},
   "source": [
    "Floor division can be used to remove the last digit from the number. Then, reassign the number and do the same operation.\n",
    "The inverse number can be constructed during that process, each time summing up the last extracted digit and multiplying the total number by 10."
   ]
  },
  {
   "cell_type": "markdown",
   "id": "be9d62dc-ee34-478b-afe6-f9dc4ba32bbd",
   "metadata": {},
   "source": [
    "#### Even a better solution!"
   ]
  },
  {
   "cell_type": "markdown",
   "id": "96ed7dca-2ded-4c05-957a-8d706c663cf9",
   "metadata": {},
   "source": [
    "$O(n)$"
   ]
  },
  {
   "cell_type": "code",
   "execution_count": 9,
   "id": "74c19195-3fa5-478e-9edf-1694e127e78c",
   "metadata": {},
   "outputs": [],
   "source": [
    "def isPalindrome(x):\n",
    "    if (x < 0) or (x % 10 == 0 and x != 0):\n",
    "        return False\n",
    "\n",
    "    inverse_num = 0\n",
    "    while x > inverse_num:\n",
    "        inverse_num = 10 * inverse_num + x % 10\n",
    "        x //= 10\n",
    "\n",
    "    return x == inverse_num or x == inverse_num // 10"
   ]
  },
  {
   "cell_type": "code",
   "execution_count": 10,
   "id": "a498242c-2729-42bb-b6f8-ad899ddac0ec",
   "metadata": {},
   "outputs": [
    {
     "name": "stdout",
     "output_type": "stream",
     "text": [
      "All test cases passed!\n"
     ]
    }
   ],
   "source": [
    "test_cases()"
   ]
  },
  {
   "cell_type": "markdown",
   "id": "b795988d-7932-4cda-9608-a4128e57ca73",
   "metadata": {},
   "source": [
    "The solution is still O(n), but in this case it just checks the half of the integer instead of traversing through the whole integer. Additionally, there is 1 less variable used."
   ]
  }
 ],
 "metadata": {
  "kernelspec": {
   "display_name": "MusicGen",
   "language": "python",
   "name": "musicgen"
  },
  "language_info": {
   "codemirror_mode": {
    "name": "ipython",
    "version": 3
   },
   "file_extension": ".py",
   "mimetype": "text/x-python",
   "name": "python",
   "nbconvert_exporter": "python",
   "pygments_lexer": "ipython3",
   "version": "3.9.0"
  }
 },
 "nbformat": 4,
 "nbformat_minor": 5
}
