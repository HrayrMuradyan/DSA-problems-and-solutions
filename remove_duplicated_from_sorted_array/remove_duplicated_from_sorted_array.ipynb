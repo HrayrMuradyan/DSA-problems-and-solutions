{
 "cells": [
  {
   "cell_type": "markdown",
   "id": "8b0a3e65-597b-4d4e-b6c7-92b97c077b66",
   "metadata": {},
   "source": [
    "# Remove Duplicated From Sorted Array"
   ]
  },
  {
   "cell_type": "markdown",
   "id": "dc70aa35-69f0-4bb7-bb57-d72801f44ec4",
   "metadata": {},
   "source": [
    "## Problem Definition"
   ]
  },
  {
   "cell_type": "markdown",
   "id": "f8ac43a5-70d2-4df4-8b2e-b4519883ab56",
   "metadata": {},
   "source": [
    "Given an integer array nums sorted in non-decreasing order, remove the duplicates in-place such that each unique element appears only once. The relative order of the elements should be kept the same. Then return the number of unique elements in nums.\n",
    "\n",
    "Consider the number of unique elements of nums to be k, to get accepted, you need to do the following things:\n",
    "\n",
    "Change the array nums such that the first k elements of nums contain the unique elements in the order they were present in nums initially. The remaining elements of nums are not important as well as the size of nums.\n",
    "Return k."
   ]
  },
  {
   "cell_type": "markdown",
   "id": "067fb786-8ce4-4846-9173-2e7e5ff6ffc5",
   "metadata": {},
   "source": [
    "### Example Cases"
   ]
  },
  {
   "cell_type": "markdown",
   "id": "7b49f9c3-0faa-4402-949f-172d8fc276e7",
   "metadata": {},
   "source": [
    "**Example 1:**\n",
    "\n",
    "Input: nums = [1, 1, 2]\n",
    "Output: 2, nums = [1,2,_]\n",
    "Explanation: Your function should return k = 2, with the first two elements of nums being 1 and 2 respectively.\n",
    "It does not matter what you leave beyond the returned k (hence they are underscores). \n",
    "\n",
    "**Example 2:**\n",
    "\n",
    "Input: nums = [0,0,1,1,1,2,2,3,3,4] \n",
    "Output: 5, nums = [0,1,2,3,4,_,_,_,_,_] \n",
    "Explanation: Your function should return k = 5, with the first five elements of nums being 0, 1, 2, 3, and 4 respectively.\n",
    "It does not matter what you leave beyond the returned k (hence they are underscores)."
   ]
  },
  {
   "cell_type": "markdown",
   "id": "4206965c-370d-468c-a38d-b0838196f3d4",
   "metadata": {},
   "source": [
    "### Constraints"
   ]
  },
  {
   "cell_type": "markdown",
   "id": "fc4ae099-6815-4c43-b0b7-5c59fab48426",
   "metadata": {},
   "source": [
    "Constraints:\n",
    "\n",
    "- 1 <= nums.length <= 3 * $10^4$\n",
    "- -100 <= nums[i] <= 100 \n",
    "- nums is sorted in non-decreasing order."
   ]
  },
  {
   "cell_type": "markdown",
   "id": "2bfa2b77-5e27-4045-9c48-b54f968a1921",
   "metadata": {},
   "source": [
    "## Example test cases"
   ]
  },
  {
   "cell_type": "code",
   "execution_count": 122,
   "id": "acbe04d5-ac2a-4858-865f-62d4bbf643c4",
   "metadata": {},
   "outputs": [],
   "source": [
    "def check(nums, expectedNums, removeDuplicates):\n",
    "    k, _ = removeDuplicates(nums)\n",
    "    assert k == len(expectedNums), f\"Expected length {len(expectedNums)}, got {k}\"\n",
    "    for i in range(k):\n",
    "        assert nums[i] == expectedNums[i], f\"At index {i}, expected {expectedNums[i]}, got {nums[i]}\"\n",
    "    return True"
   ]
  },
  {
   "cell_type": "code",
   "execution_count": 131,
   "id": "665f2ca1-9d43-4544-98b2-b23fbd2c2dab",
   "metadata": {},
   "outputs": [],
   "source": [
    "def test_cases_inplace_check():\n",
    "    assert check([1,1,2], [1,2], removeDuplicates)\n",
    "    assert check([0,0,1,1,1,2,2,3,3,4], [0,1,2,3,4], removeDuplicates)\n",
    "    print(\"All test cases passed!\")"
   ]
  },
  {
   "cell_type": "code",
   "execution_count": 132,
   "id": "bb2e880b-c5cc-4dd3-a439-960501a3e695",
   "metadata": {},
   "outputs": [],
   "source": [
    "def test_cases():\n",
    "    count, nums = removeDuplicates([1,1,2])\n",
    "    assert (count, nums) == (2, [1,2,''])\n",
    "    count, nums = removeDuplicates([0,0,1,1,1,2,2,3,3,4])\n",
    "    assert (count, nums) == (5, [0,1,2,3,4,'','','','',''])\n",
    "    print(\"All test cases passed!\")"
   ]
  },
  {
   "cell_type": "markdown",
   "id": "82ce7ac0-1452-4062-bb2c-22074c2dcdef",
   "metadata": {},
   "source": [
    "## Solutions"
   ]
  },
  {
   "cell_type": "markdown",
   "id": "b6c675c0-1e99-4541-ab0b-15baf88c57cf",
   "metadata": {},
   "source": [
    "Time complexity - $O(n^2)$, State complexity - $O(n)$"
   ]
  },
  {
   "cell_type": "markdown",
   "id": "9c4cbde3-4cb4-4dad-add4-99d48ef1688d",
   "metadata": {},
   "source": [
    "The first solution that came to my mind is to create a new list and to count the number of non-unique elements throughout iteration. If there is a unique element, add to the new list. Return the length of the new list and the combination of the new list (unique elements) and of a list containing number of elements corresponding to the number of non-unique elements."
   ]
  },
  {
   "cell_type": "markdown",
   "id": "3808ad40-4f89-4c6d-9b8e-9d146060e259",
   "metadata": {},
   "source": [
    "Time complexity is $O(n^2)$ because checking if the number is in the list or not takes another n iterations. "
   ]
  },
  {
   "cell_type": "code",
   "execution_count": 133,
   "id": "afc17838-e6a8-45aa-b8ad-508f1fc54cf4",
   "metadata": {},
   "outputs": [],
   "source": [
    "def removeDuplicates(nums):\n",
    "    new_nums = []\n",
    "    count = 0\n",
    "    for num in nums:\n",
    "        if num in new_nums:\n",
    "            count += 1\n",
    "        else:\n",
    "            new_nums.append(num)\n",
    "    return len(new_nums), new_nums + count*['']"
   ]
  },
  {
   "cell_type": "code",
   "execution_count": 134,
   "id": "d71ac42b-1824-4241-8c43-cfcce1b811d6",
   "metadata": {},
   "outputs": [
    {
     "data": {
      "text/plain": [
       "(2, [1, 2, ''])"
      ]
     },
     "execution_count": 134,
     "metadata": {},
     "output_type": "execute_result"
    }
   ],
   "source": [
    "removeDuplicates([1,2,2])"
   ]
  },
  {
   "cell_type": "code",
   "execution_count": 135,
   "id": "bfbe1529-6562-4012-94c0-927428299f9d",
   "metadata": {},
   "outputs": [
    {
     "name": "stdout",
     "output_type": "stream",
     "text": [
      "All test cases passed!\n"
     ]
    }
   ],
   "source": [
    "test_cases()"
   ]
  },
  {
   "cell_type": "markdown",
   "id": "95fc7ca4-bc75-4c4e-8fe3-0c85f7b7e731",
   "metadata": {},
   "source": [
    "#### Improvement"
   ]
  },
  {
   "cell_type": "markdown",
   "id": "8d56f541-ac7e-4c86-9e04-2be28b7063cb",
   "metadata": {},
   "source": [
    "Time complexity - $O(n)$, State complexity - $O(n)$"
   ]
  },
  {
   "cell_type": "markdown",
   "id": "a8b69226-3a25-407d-9c65-9969e77dee55",
   "metadata": {},
   "source": [
    "Replacing the list with a set would make the look up O(1). Thus, the overall time complexity will become O(n). However, for smaller sets it may be slower because of the conversion from set to lists. Another alternative is to have another a separate list and set instead."
   ]
  },
  {
   "cell_type": "code",
   "execution_count": 136,
   "id": "7cfd372c-d93f-42e2-8ccd-aaac985b3a99",
   "metadata": {},
   "outputs": [],
   "source": [
    "# With conversion\n",
    "def removeDuplicates(nums):\n",
    "    new_nums = set()\n",
    "    count = 0\n",
    "    for num in nums:\n",
    "        if num in new_nums:\n",
    "            count += 1\n",
    "        else:\n",
    "            new_nums.add(num)\n",
    "    return len(new_nums), list(new_nums) + count*['']"
   ]
  },
  {
   "cell_type": "code",
   "execution_count": 137,
   "id": "ece658b2-d8f8-487f-9a0f-890a4b83a873",
   "metadata": {},
   "outputs": [],
   "source": [
    "# With a separate set\n",
    "def removeDuplicates(nums):\n",
    "    seen = set()\n",
    "    new_nums = []\n",
    "    count = 0\n",
    "    for num in nums:\n",
    "        if num in seen:\n",
    "            count += 1\n",
    "        else:\n",
    "            seen.add(num)\n",
    "            new_nums.append(num)\n",
    "\n",
    "    # For more readability and extend works faster than summing because it doens't create a new list but extends the existing one\n",
    "    new_nums.extend([''] * count)\n",
    "    return len(new_nums) - count, new_nums"
   ]
  },
  {
   "cell_type": "code",
   "execution_count": 138,
   "id": "a99dc51f-b6a6-40d1-9f15-d39f5290eab0",
   "metadata": {},
   "outputs": [
    {
     "data": {
      "text/plain": [
       "(2, [1, 2, ''])"
      ]
     },
     "execution_count": 138,
     "metadata": {},
     "output_type": "execute_result"
    }
   ],
   "source": [
    "removeDuplicates([1,2,2])"
   ]
  },
  {
   "cell_type": "code",
   "execution_count": 139,
   "id": "7c00b810-c46e-4669-8d03-b6c402c4685f",
   "metadata": {},
   "outputs": [
    {
     "name": "stdout",
     "output_type": "stream",
     "text": [
      "All test cases passed!\n"
     ]
    }
   ],
   "source": [
    "test_cases()"
   ]
  },
  {
   "cell_type": "markdown",
   "id": "23f8f6fd-bf8a-4b4d-94c5-ce6c083f67d1",
   "metadata": {},
   "source": [
    "Time complexity - $O(n)$, State complexity - $O(1)$"
   ]
  },
  {
   "cell_type": "markdown",
   "id": "b0218e74-8bc3-4966-b2b8-7c3348fe6552",
   "metadata": {},
   "source": [
    "The state complexity can also be reduced to $O(1)$ if the list elements are modified during the for loop. An important notice regarding this is that it's safe only if we are overwriting elements. Changing the structure or the length of the list while doing a for loop is a problem."
   ]
  },
  {
   "cell_type": "code",
   "execution_count": 140,
   "id": "a79fc091-30a6-4930-a74c-6bc7f4895884",
   "metadata": {},
   "outputs": [],
   "source": [
    "# With a separate set\n",
    "def removeDuplicates(nums):\n",
    "    k = 0\n",
    "    for num in nums:\n",
    "        \n",
    "        # For the first iteration the next the second statement of the or statement will not be called since the first is True\n",
    "        if k==0 or num != nums[k-1]:\n",
    "            nums[k] = num\n",
    "            k+=1\n",
    "    return k, nums"
   ]
  },
  {
   "cell_type": "code",
   "execution_count": 141,
   "id": "3e351a76-871c-487e-b63e-745a3e597bbd",
   "metadata": {},
   "outputs": [
    {
     "data": {
      "text/plain": [
       "(2, [1, 2, 2])"
      ]
     },
     "execution_count": 141,
     "metadata": {},
     "output_type": "execute_result"
    }
   ],
   "source": [
    "removeDuplicates([1,1,2])"
   ]
  },
  {
   "cell_type": "code",
   "execution_count": 142,
   "id": "b1223bcc-604c-4ed8-ba3c-dc48353b1f55",
   "metadata": {},
   "outputs": [
    {
     "name": "stdout",
     "output_type": "stream",
     "text": [
      "All test cases passed!\n"
     ]
    }
   ],
   "source": [
    "test_cases_inplace_check()"
   ]
  }
 ],
 "metadata": {
  "kernelspec": {
   "display_name": "Python 3 (ipykernel)",
   "language": "python",
   "name": "python3"
  },
  "language_info": {
   "codemirror_mode": {
    "name": "ipython",
    "version": 3
   },
   "file_extension": ".py",
   "mimetype": "text/x-python",
   "name": "python",
   "nbconvert_exporter": "python",
   "pygments_lexer": "ipython3",
   "version": "3.11.11"
  }
 },
 "nbformat": 4,
 "nbformat_minor": 5
}
