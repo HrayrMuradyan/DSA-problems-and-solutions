{
 "cells": [
  {
   "cell_type": "markdown",
   "id": "8b0a3e65-597b-4d4e-b6c7-92b97c077b66",
   "metadata": {},
   "source": [
    "# Search Insert Position"
   ]
  },
  {
   "cell_type": "markdown",
   "id": "dc70aa35-69f0-4bb7-bb57-d72801f44ec4",
   "metadata": {},
   "source": [
    "## Problem Definition"
   ]
  },
  {
   "cell_type": "markdown",
   "id": "f8ac43a5-70d2-4df4-8b2e-b4519883ab56",
   "metadata": {},
   "source": [
    "Given a sorted array of distinct integers and a target value, return the index if the target is found. If not, return the index where it would be if it were inserted in order.\n",
    "\n",
    "You must write an algorithm with $O(log n)$ runtime complexity."
   ]
  },
  {
   "cell_type": "markdown",
   "id": "067fb786-8ce4-4846-9173-2e7e5ff6ffc5",
   "metadata": {},
   "source": [
    "### Example Cases"
   ]
  },
  {
   "cell_type": "markdown",
   "id": "7b49f9c3-0faa-4402-949f-172d8fc276e7",
   "metadata": {},
   "source": [
    "**Example 1:**\n",
    "\n",
    "Input: nums = [1,3,5,6], target = 5  \n",
    "Output: 2  \n",
    "\n",
    "**Example 2:**  \n",
    "\n",
    "Input: nums = [1,3,5,6], target = 2  \n",
    "Output: 1  \n",
    "\n",
    "**Example 3:**  \n",
    "\n",
    "Input: nums = [1,3,5,6], target = 7  \n",
    "Output: 4  "
   ]
  },
  {
   "cell_type": "markdown",
   "id": "4206965c-370d-468c-a38d-b0838196f3d4",
   "metadata": {},
   "source": [
    "### Constraints"
   ]
  },
  {
   "cell_type": "markdown",
   "id": "fc4ae099-6815-4c43-b0b7-5c59fab48426",
   "metadata": {},
   "source": [
    "Constraints:\n",
    "\n",
    "- 1 <= nums.length <= $10^4$\n",
    "- -$10^4$ <= nums[i] <= $10^4$\n",
    "- nums contains distinct values sorted in ascending order.\n",
    "- -$10^4$ <= target <= $10^4$"
   ]
  },
  {
   "cell_type": "markdown",
   "id": "2bfa2b77-5e27-4045-9c48-b54f968a1921",
   "metadata": {},
   "source": [
    "## Example test cases"
   ]
  },
  {
   "cell_type": "code",
   "execution_count": 70,
   "id": "bb2e880b-c5cc-4dd3-a439-960501a3e695",
   "metadata": {},
   "outputs": [],
   "source": [
    "def test_cases():\n",
    "    assert searchInsert([1,3,5,6], 5) == 2\n",
    "    assert searchInsert([1,3,5,6], 2) == 1\n",
    "    assert searchInsert([1,3,5,6], 7) == 4\n",
    "    print(\"All test cases passed!\")"
   ]
  },
  {
   "cell_type": "markdown",
   "id": "82ce7ac0-1452-4062-bb2c-22074c2dcdef",
   "metadata": {},
   "source": [
    "## Solutions"
   ]
  },
  {
   "cell_type": "markdown",
   "id": "51e52a8f-8627-483c-95f3-6867f14de2e0",
   "metadata": {},
   "source": [
    "$O(n)$\n",
    "\n",
    "We can just iterate over all elements and check if the number if higher or equal than the target, we should return the index of that element.  \n",
    "If none of the elements is higher than the target, then we should return the index + 1 (insert from the end)."
   ]
  },
  {
   "cell_type": "code",
   "execution_count": 71,
   "id": "e7620d47-7c8d-4930-bca5-c5d5789e5de1",
   "metadata": {},
   "outputs": [],
   "source": [
    "def searchInsert(nums, target):\n",
    "    for index, num in enumerate(nums):\n",
    "        if num >= target:\n",
    "            return index\n",
    "    return index + 1"
   ]
  },
  {
   "cell_type": "code",
   "execution_count": 72,
   "id": "7c99efe8-99db-4b56-86f4-e32d726950a9",
   "metadata": {},
   "outputs": [
    {
     "name": "stdout",
     "output_type": "stream",
     "text": [
      "All test cases passed!\n"
     ]
    }
   ],
   "source": [
    "test_cases()"
   ]
  },
  {
   "cell_type": "markdown",
   "id": "6a7754a3-6683-42fb-aa2e-d0c95b834f4d",
   "metadata": {},
   "source": [
    "### Improvements"
   ]
  },
  {
   "cell_type": "markdown",
   "id": "88a1c863-ae0f-4475-978b-c35748267ceb",
   "metadata": {},
   "source": [
    "$O(logn)$\n",
    "\n",
    "That's a binary search problem that should be optimized a bit for the following use case. "
   ]
  },
  {
   "cell_type": "markdown",
   "id": "96bcdf43-5456-4d8b-a547-2e7a01a613c4",
   "metadata": {},
   "source": [
    "The function stops the same way as the binary search (when left_index is higher than the right_end), but when it exits without finding the target, it returns left as the correct insert spot.\n",
    "\n",
    "That's because when the while loop stops:\n",
    "- All numbers to the left of left_end are smaller than the target.\n",
    "- All numbers to the right of left_end are bigger.\n",
    "\n",
    "So, left_end points to the exact position where the target should go, whether it’s between numbers or at the start or end of the list."
   ]
  },
  {
   "cell_type": "code",
   "execution_count": 75,
   "id": "adf57241-cefe-4433-8cee-11a65560e4fa",
   "metadata": {},
   "outputs": [],
   "source": [
    "def searchInsert(nums, target):\n",
    "    left_end = 0\n",
    "    right_end = len(nums) - 1\n",
    "\n",
    "    while left_end <= right_end:\n",
    "        center = (left_end + right_end) // 2\n",
    "\n",
    "        if nums[center] == target:\n",
    "            return center\n",
    "            \n",
    "        elif nums[center] > target:\n",
    "            right_end = center - 1\n",
    "        else:\n",
    "            left_end = center + 1\n",
    "    \n",
    "    return left_end"
   ]
  },
  {
   "cell_type": "code",
   "execution_count": 76,
   "id": "0249de74-e406-4127-b188-9f76a3affccd",
   "metadata": {},
   "outputs": [
    {
     "name": "stdout",
     "output_type": "stream",
     "text": [
      "All test cases passed!\n"
     ]
    }
   ],
   "source": [
    "test_cases()"
   ]
  }
 ],
 "metadata": {
  "kernelspec": {
   "display_name": "Python 3 (ipykernel)",
   "language": "python",
   "name": "python3"
  },
  "language_info": {
   "codemirror_mode": {
    "name": "ipython",
    "version": 3
   },
   "file_extension": ".py",
   "mimetype": "text/x-python",
   "name": "python",
   "nbconvert_exporter": "python",
   "pygments_lexer": "ipython3",
   "version": "3.11.11"
  }
 },
 "nbformat": 4,
 "nbformat_minor": 5
}
