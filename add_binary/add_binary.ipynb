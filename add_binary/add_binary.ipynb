{
 "cells": [
  {
   "cell_type": "markdown",
   "id": "8b0a3e65-597b-4d4e-b6c7-92b97c077b66",
   "metadata": {},
   "source": [
    "# Add Binary"
   ]
  },
  {
   "cell_type": "markdown",
   "id": "dc70aa35-69f0-4bb7-bb57-d72801f44ec4",
   "metadata": {},
   "source": [
    "## Problem Definition"
   ]
  },
  {
   "cell_type": "markdown",
   "id": "abc92d45-7cb3-437d-9730-cb17f9b55a7a",
   "metadata": {},
   "source": [
    "Given two binary strings a and b, return their sum as a binary string."
   ]
  },
  {
   "cell_type": "markdown",
   "id": "067fb786-8ce4-4846-9173-2e7e5ff6ffc5",
   "metadata": {},
   "source": [
    "### Example Cases"
   ]
  },
  {
   "cell_type": "markdown",
   "id": "7b49f9c3-0faa-4402-949f-172d8fc276e7",
   "metadata": {},
   "source": [
    "**Example 1:**\n",
    "\n",
    "Input: a = \"11\", b = \"1\"  \n",
    "Output: \"100\" \n",
    "\n",
    "**Example 2:**  \n",
    "\n",
    "Input: a = \"1010\", b = \"1011\"  \n",
    "Output: \"10101\" \n"
   ]
  },
  {
   "cell_type": "markdown",
   "id": "4206965c-370d-468c-a38d-b0838196f3d4",
   "metadata": {},
   "source": [
    "### Constraints"
   ]
  },
  {
   "cell_type": "markdown",
   "id": "fc4ae099-6815-4c43-b0b7-5c59fab48426",
   "metadata": {},
   "source": [
    "\n",
    "- 1 <= a.length, b.length <= $10^4$\n",
    "- a and b consist only of '0' or '1' characters.\n",
    "- Each string does not contain leading zeros except for the zero itself."
   ]
  },
  {
   "cell_type": "markdown",
   "id": "2bfa2b77-5e27-4045-9c48-b54f968a1921",
   "metadata": {},
   "source": [
    "## Example test cases"
   ]
  },
  {
   "cell_type": "code",
   "execution_count": 1,
   "id": "bb2e880b-c5cc-4dd3-a439-960501a3e695",
   "metadata": {},
   "outputs": [],
   "source": [
    "def test_cases():\n",
    "    assert addBinary(a = \"11\", b = \"1\") == \"100\"\n",
    "    assert addBinary(a = \"1010\", b = \"1011\") == \"10101\"\n",
    "    print(\"All test cases passed!\")"
   ]
  },
  {
   "cell_type": "markdown",
   "id": "82ce7ac0-1452-4062-bb2c-22074c2dcdef",
   "metadata": {},
   "source": [
    "## Solutions"
   ]
  },
  {
   "cell_type": "markdown",
   "id": "95d859dd-d87c-417c-a9eb-fca68b7374e3",
   "metadata": {},
   "source": [
    "$O(max(n, m))$, where n = len(a), m = len(b)"
   ]
  },
  {
   "cell_type": "code",
   "execution_count": 35,
   "id": "75e2824a-7ba2-421c-b6ba-ccdeca63d822",
   "metadata": {},
   "outputs": [],
   "source": [
    "def addBinary(a, b):\n",
    "    len_a = len(a)\n",
    "    len_b = len(b)\n",
    "    \n",
    "    carry = 0\n",
    "    pointer = -1\n",
    "    result = []\n",
    "    \n",
    "    \n",
    "    while (pointer >= -max(len_a, len_b)) or (carry == 1):\n",
    "        \n",
    "        num_a = \"0\" if (pointer < -len_a) else a[pointer]\n",
    "        num_b = \"0\" if (pointer < -len_b) else b[pointer]\n",
    "                \n",
    "        carry = carry + int(num_a) + int(num_b)\n",
    "\n",
    "        result.append(str(carry % 2))\n",
    "        carry = carry // 2\n",
    "        \n",
    "        pointer -= 1\n",
    "    \n",
    "    return \"\".join(result[::-1])\n",
    "    "
   ]
  },
  {
   "cell_type": "code",
   "execution_count": 36,
   "id": "85af11f8-9831-44ae-98fc-40c1e20c0881",
   "metadata": {},
   "outputs": [
    {
     "data": {
      "text/plain": [
       "'10000'"
      ]
     },
     "execution_count": 36,
     "metadata": {},
     "output_type": "execute_result"
    }
   ],
   "source": [
    "addBinary(a = \"1111\", b = \"1\")"
   ]
  },
  {
   "cell_type": "code",
   "execution_count": 37,
   "id": "629b73fd-4189-48f9-8215-fe6f3fa002b2",
   "metadata": {},
   "outputs": [
    {
     "name": "stdout",
     "output_type": "stream",
     "text": [
      "All test cases passed!\n"
     ]
    }
   ],
   "source": [
    "test_cases()"
   ]
  }
 ],
 "metadata": {
  "kernelspec": {
   "display_name": "Python 3 (ipykernel)",
   "language": "python",
   "name": "python3"
  },
  "language_info": {
   "codemirror_mode": {
    "name": "ipython",
    "version": 3
   },
   "file_extension": ".py",
   "mimetype": "text/x-python",
   "name": "python",
   "nbconvert_exporter": "python",
   "pygments_lexer": "ipython3",
   "version": "3.9.13"
  }
 },
 "nbformat": 4,
 "nbformat_minor": 5
}
