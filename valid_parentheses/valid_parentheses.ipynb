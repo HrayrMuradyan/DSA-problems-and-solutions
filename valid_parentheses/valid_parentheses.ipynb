{
 "cells": [
  {
   "cell_type": "markdown",
   "id": "8b0a3e65-597b-4d4e-b6c7-92b97c077b66",
   "metadata": {},
   "source": [
    "# Valid Parentheses"
   ]
  },
  {
   "cell_type": "markdown",
   "id": "dc70aa35-69f0-4bb7-bb57-d72801f44ec4",
   "metadata": {},
   "source": [
    "## Problem Definition"
   ]
  },
  {
   "cell_type": "markdown",
   "id": "f8ac43a5-70d2-4df4-8b2e-b4519883ab56",
   "metadata": {},
   "source": [
    "Given a string s containing just the characters `'('`, `')'`, `'{'`, `'}'`, `'['` and `']'`, determine if the input string is valid.\n",
    "\n",
    "An input string is valid if:\n",
    "\n",
    "1. Open brackets must be closed by the same type of brackets.\n",
    "2. Open brackets must be closed in the correct order.\n",
    "3. Every close bracket has a corresponding open bracket of the same type."
   ]
  },
  {
   "cell_type": "markdown",
   "id": "067fb786-8ce4-4846-9173-2e7e5ff6ffc5",
   "metadata": {},
   "source": [
    "### Example Cases"
   ]
  },
  {
   "cell_type": "markdown",
   "id": "7b49f9c3-0faa-4402-949f-172d8fc276e7",
   "metadata": {},
   "source": [
    "**Example 1:**\n",
    "\n",
    "Input: s = \"()\"  \n",
    "Output: true\n",
    "\n",
    "**Example 2:**\n",
    "\n",
    "Input: s = \"()[]{}\"  \n",
    "Output: true\n",
    "\n",
    "**Example 3:**\n",
    "\n",
    "Input: s = \"(]\"  \n",
    "Output: false\n",
    "\n",
    "**Example 4:**\n",
    "\n",
    "Input: s = \"([])\"  \n",
    "Output: true"
   ]
  },
  {
   "cell_type": "markdown",
   "id": "4206965c-370d-468c-a38d-b0838196f3d4",
   "metadata": {},
   "source": [
    "### Constraints"
   ]
  },
  {
   "cell_type": "markdown",
   "id": "fc4ae099-6815-4c43-b0b7-5c59fab48426",
   "metadata": {},
   "source": [
    "Constraints:\n",
    "\n",
    "- 1 <= s.length <= 104\n",
    "- s consists of parentheses only '()[]{}'."
   ]
  },
  {
   "cell_type": "markdown",
   "id": "2bfa2b77-5e27-4045-9c48-b54f968a1921",
   "metadata": {},
   "source": [
    "## Example test cases"
   ]
  },
  {
   "cell_type": "code",
   "execution_count": 2,
   "id": "bb2e880b-c5cc-4dd3-a439-960501a3e695",
   "metadata": {},
   "outputs": [],
   "source": [
    "def test_cases():\n",
    "    assert isValid(\"()\") is True\n",
    "    assert isValid(\"()[]{}\") is True\n",
    "    assert isValid(\"(]\") is False\n",
    "    assert isValid(\"([])\") is True\n",
    "    print(\"All test cases passed!\")"
   ]
  },
  {
   "cell_type": "markdown",
   "id": "82ce7ac0-1452-4062-bb2c-22074c2dcdef",
   "metadata": {},
   "source": [
    "## Solutions"
   ]
  },
  {
   "cell_type": "markdown",
   "id": "eaab2d3e-a1ec-427f-a86a-8f19b203a2b7",
   "metadata": {},
   "source": [
    "$O(n)$ "
   ]
  },
  {
   "cell_type": "markdown",
   "id": "3d75a9eb-05ae-4ee1-b6ad-8255b01b1c95",
   "metadata": {},
   "source": [
    "The first solution that seems reasonable is to keep a mapping with opening brackets as the keys and closing ones as the values.\n",
    "\n",
    "- If the length of the string is odd, then it is False\n",
    "- If the first character is a closing bracket, again False\n",
    "\n",
    "Keep a list of the elements (as a stack)\n",
    "\n",
    "For each letter, check if it is an opening bracket or closing.\n",
    "\n",
    "- If the letter is opening, add it to the stack,\n",
    "- If the letter is closing, see if the last element in the stack is an opening bracket or not. If not, return False, if yes, remove the last element from the stack.\n",
    "\n",
    "At the end, if the sequence length is 0, return True, else False"
   ]
  },
  {
   "cell_type": "code",
   "execution_count": 56,
   "id": "3fe2f6a3-afcc-41c7-aef7-26efecd8bdad",
   "metadata": {},
   "outputs": [],
   "source": [
    "def isValid(s):\n",
    "    mapping = {\n",
    "        \"{\": \"}\",\n",
    "        \"[\": \"]\",\n",
    "        \"(\": \")\"\n",
    "    }\n",
    "    \n",
    "    if (len(s) % 2 != 0) or (s[0] in mapping.values()):\n",
    "        return False\n",
    "        \n",
    "    stack = []\n",
    "    for letter in s:\n",
    "        if letter in mapping.keys():\n",
    "            stack.append(letter)\n",
    "        else:\n",
    "            if mapping[stack[-1]] == letter:\n",
    "                stack = stack[:-1]\n",
    "            else:\n",
    "                False\n",
    "\n",
    "    return not stack"
   ]
  },
  {
   "cell_type": "code",
   "execution_count": 57,
   "id": "954ac223-cd35-4ac9-8a49-a0cee2e89923",
   "metadata": {},
   "outputs": [
    {
     "name": "stdout",
     "output_type": "stream",
     "text": [
      "All test cases passed!\n"
     ]
    }
   ],
   "source": [
    "test_cases()"
   ]
  },
  {
   "cell_type": "markdown",
   "id": "6aee3441-2bbe-4509-b2e7-1864b166a7d8",
   "metadata": {},
   "source": [
    "A small adjustment can be made to remove additional else block:"
   ]
  },
  {
   "cell_type": "code",
   "execution_count": 64,
   "id": "5cb1f02e-5519-4548-9568-eaf1096da3ea",
   "metadata": {},
   "outputs": [],
   "source": [
    "def isValid(s):\n",
    "    mapping = {\n",
    "        \"{\": \"}\",\n",
    "        \"[\": \"]\",\n",
    "        \"(\": \")\"\n",
    "    }\n",
    "    \n",
    "    if (len(s) % 2 != 0) or (s[0] in mapping.values()):\n",
    "        return False\n",
    "        \n",
    "    stack = []\n",
    "    for letter in s:\n",
    "        if letter in mapping.keys():\n",
    "            stack.append(letter)\n",
    "        else:\n",
    "            last_element = stack.pop() if stack else \"\"\n",
    "            if (last_element == \"\") or (mapping[last_element] != letter):\n",
    "                return False\n",
    "\n",
    "    return not stack"
   ]
  },
  {
   "cell_type": "code",
   "execution_count": 65,
   "id": "60545613-326a-4448-9721-cf118534836b",
   "metadata": {},
   "outputs": [
    {
     "name": "stdout",
     "output_type": "stream",
     "text": [
      "All test cases passed!\n"
     ]
    }
   ],
   "source": [
    "test_cases()"
   ]
  },
  {
   "cell_type": "markdown",
   "id": "9a0817ee-8ab2-4529-be16-1666f4559a04",
   "metadata": {},
   "source": [
    "Inverting the mapping would provide a clearer code (`last_element == \"\"` is removed):"
   ]
  },
  {
   "cell_type": "code",
   "execution_count": 68,
   "id": "5f4eab46-3e48-4ddb-909b-7337e9cc2243",
   "metadata": {},
   "outputs": [],
   "source": [
    "def isValid(s):\n",
    "    mapping = {\n",
    "        \"}\": \"{\",\n",
    "        \"]\": \"[\",\n",
    "        \")\": \"(\"\n",
    "    }\n",
    "    \n",
    "    if (len(s) % 2 != 0) or (s[0] in mapping.keys()):\n",
    "        return False\n",
    "        \n",
    "    stack = []\n",
    "    for letter in s:\n",
    "        if letter in mapping.values():\n",
    "            stack.append(letter)\n",
    "        else:\n",
    "            last_element = stack.pop() if stack else \"\"\n",
    "            if (mapping[letter] != last_element):\n",
    "                return False\n",
    "\n",
    "    return not stack"
   ]
  },
  {
   "cell_type": "code",
   "execution_count": 69,
   "id": "ec7b444f-270f-4432-b37d-d207e361b0f6",
   "metadata": {},
   "outputs": [
    {
     "name": "stdout",
     "output_type": "stream",
     "text": [
      "All test cases passed!\n"
     ]
    }
   ],
   "source": [
    "test_cases()"
   ]
  }
 ],
 "metadata": {
  "kernelspec": {
   "display_name": "Python 3 (ipykernel)",
   "language": "python",
   "name": "python3"
  },
  "language_info": {
   "codemirror_mode": {
    "name": "ipython",
    "version": 3
   },
   "file_extension": ".py",
   "mimetype": "text/x-python",
   "name": "python",
   "nbconvert_exporter": "python",
   "pygments_lexer": "ipython3",
   "version": "3.9.0"
  }
 },
 "nbformat": 4,
 "nbformat_minor": 5
}
