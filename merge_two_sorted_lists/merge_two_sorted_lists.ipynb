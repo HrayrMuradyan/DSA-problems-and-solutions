{
 "cells": [
  {
   "cell_type": "markdown",
   "id": "0e31804a-3caf-4f5e-9cb4-df628eaf8027",
   "metadata": {},
   "source": [
    "# Merge Two Sorted Lists"
   ]
  },
  {
   "cell_type": "markdown",
   "id": "9fb8dcd3-77aa-420a-8278-dbbe49f95449",
   "metadata": {},
   "source": [
    "## Problem definition"
   ]
  },
  {
   "cell_type": "markdown",
   "id": "0176ec0a-7aa8-4c85-a723-266518752532",
   "metadata": {},
   "source": [
    "You are given the heads of two sorted linked lists `list1` and `list2`.\n",
    "\n",
    "Merge the two lists into one sorted list. The list should be made by splicing together the nodes of the first two lists.\n",
    "\n",
    "Return the sorted linked list."
   ]
  },
  {
   "cell_type": "markdown",
   "id": "83c5009e-9ea5-470f-9ec3-14af84417f26",
   "metadata": {},
   "source": [
    "#### Example cases\n",
    "\n",
    "**Example 1:**\n",
    "\n",
    "Input: list1 = [1,2,4], list2 = [1,3,4]  \n",
    "Output: [1,1,2,3,4,4]\n",
    "\n",
    "**Example 2:**\n",
    "\n",
    "Input: list1 = [], list2 = []  \n",
    "Output: []\n",
    "\n",
    "**Example 3:**\n",
    "\n",
    "Input: list1 = [], list2 = [0]  \n",
    "Output: [0]\n"
   ]
  },
  {
   "cell_type": "markdown",
   "id": "be0bde73-194c-4973-8cba-49ffb7b2db24",
   "metadata": {},
   "source": [
    "#### Constraints:\n",
    "\n",
    "- The number of nodes in both lists is in the range [0, 50].\n",
    "- -100 <= Node.val <= 100\n",
    "- Both list1 and list2 are sorted in non-decreasing order."
   ]
  },
  {
   "cell_type": "markdown",
   "id": "ef37db68-35c4-451b-8602-187c4803f504",
   "metadata": {},
   "source": [
    "## Example test cases"
   ]
  },
  {
   "cell_type": "markdown",
   "id": "8d72b0b1-9844-434f-8e1a-685ab467f56b",
   "metadata": {},
   "source": [
    "#### Create the linked list"
   ]
  },
  {
   "cell_type": "code",
   "execution_count": 1,
   "id": "cb7c7da4-97f6-42d5-a3a8-8ae3d0f403fa",
   "metadata": {},
   "outputs": [],
   "source": [
    "class ListNode(object):\n",
    "    def __init__(self, val=0, next=None):\n",
    "        self.val = val\n",
    "        self.next = next"
   ]
  },
  {
   "cell_type": "code",
   "execution_count": 54,
   "id": "cae48ffa-74c6-4890-802d-78e8c6eb55f1",
   "metadata": {},
   "outputs": [],
   "source": [
    "def list_to_linked_list(input_list):\n",
    "    \"\"\"\n",
    "    Converts a list of values into a singly linked list.\n",
    "\n",
    "    Parameters:\n",
    "    input_list (list): A list of values to be converted into a linked list.\n",
    "\n",
    "    Returns:\n",
    "    ListNode: The head node of the created linked list.\n",
    "\n",
    "    Example:\n",
    "    >>> head = list_to_linked_list([1, 2, 4])\n",
    "    Resulting linked list:\n",
    "    1 -> 2 -> 4 -> None\n",
    "    \"\"\"\n",
    "    if not input_list:\n",
    "        return [] \n",
    "\n",
    "    head = ListNode(input_list[0])  \n",
    "    current = head\n",
    "\n",
    "    for el in input_list[1:]:\n",
    "        current.next = ListNode(el) \n",
    "        current = current.next\n",
    "\n",
    "    return head"
   ]
  },
  {
   "cell_type": "code",
   "execution_count": 55,
   "id": "a39457a3-5f26-4203-aaa1-ae4f703045d8",
   "metadata": {},
   "outputs": [],
   "source": [
    "def linked_list_to_list(input_linked_list):\n",
    "    \"\"\"\n",
    "    Converts a singly linked list into a list of values.\n",
    "\n",
    "    Parameters:\n",
    "    head (ListNode): The head node of the linked list.\n",
    "\n",
    "    Returns:\n",
    "    list: A list containing the values from the linked list in order.\n",
    "\n",
    "    Example:\n",
    "    >>> head = list_to_linked_list([1, 2, 4])\n",
    "    >>> linked_list_to_list(head)\n",
    "    [1, 2, 4]\n",
    "    \"\"\"\n",
    "    result = []\n",
    "    current = input_linked_list\n",
    "\n",
    "    while current:\n",
    "        result.append(current.val)  \n",
    "        current = current.next  \n",
    "\n",
    "    return result"
   ]
  },
  {
   "cell_type": "code",
   "execution_count": 56,
   "id": "4bfa7d7f-6e6a-401c-8d8b-b8f40f3284ed",
   "metadata": {},
   "outputs": [],
   "source": [
    "def test_cases():\n",
    "    assert linked_list_to_list(mergeTwoLists(list1 = [1,2,4], list2 = [1,3,4])) == [1,1,2,3,4,4]\n",
    "    assert mergeTwoLists(list1 = [], list2 = []) == []\n",
    "    assert linked_list_to_list(mergeTwoLists(list1 = [], list2 = [0])) == [0]\n",
    "    print(\"All test cases passed!\")"
   ]
  },
  {
   "cell_type": "markdown",
   "id": "7439f5d8-7156-4813-b13e-37d7b30c52bd",
   "metadata": {},
   "source": [
    "## Solutions"
   ]
  },
  {
   "cell_type": "markdown",
   "id": "514c3563-123a-469d-9688-aea6ae6f3ee5",
   "metadata": {},
   "source": [
    "Time complexity of the solution would be O(n+m).\n",
    "The loop will iterate over the smallest linked list only.\n",
    "\n",
    "The idea is to create a new linked list and populate it with all elements from both linked lists.\n",
    "Have a pointer for the new linked list and for the input linked lists.\n",
    "\n",
    "- if both lists are empty, return empty\n",
    "\n",
    "- While loop until one of the linked lists is empty.\n",
    "- Check the value of the pointer for linked list 1 and linked list 2.\n",
    "- Add the smallest number to the new linked list.\n",
    "- Switch to the next value for the linked list which had the smaller value.\n",
    "- Switch to the next value for the new linked list.\n",
    "- Repeat until we iterated over all elements of one of the lists and added them to the new list.\n",
    "- At the end only elements of the other linked list are left and there is nothing to compare, so add all elements to the tail of the new linked list.\n",
    "- Return the new linked list with the first elements skipped (it was 0)."
   ]
  },
  {
   "cell_type": "code",
   "execution_count": 57,
   "id": "b9cda3d8-28aa-47d2-a78c-5c8910dae967",
   "metadata": {},
   "outputs": [],
   "source": [
    "def mergeTwoLists(list1, list2):\n",
    "    if (not list1) and (not list2):\n",
    "        return []\n",
    "    \n",
    "    linked1_head = list_to_linked_list(list1)\n",
    "    linked2_head = list_to_linked_list(list2)\n",
    "    \n",
    "    new_linked_head = ListNode()\n",
    "    new_pointer = new_linked_head\n",
    "    \n",
    "    while linked1_head and linked2_head:\n",
    "        if linked1_head.val < linked2_head.val:\n",
    "            new_pointer.next = linked1_head\n",
    "            linked1_head = linked1_head.next \n",
    "            \n",
    "        else:\n",
    "            new_pointer.next = linked2_head\n",
    "            linked2_head = linked2_head.next \n",
    "            \n",
    "        new_pointer = new_pointer.next\n",
    "    \n",
    "    new_pointer.next = linked1_head if linked1_head else linked2_head\n",
    "    return new_linked_head.next"
   ]
  },
  {
   "cell_type": "code",
   "execution_count": 58,
   "id": "09f19c10-53f4-4ef7-b6c3-5920a05d5bdd",
   "metadata": {},
   "outputs": [],
   "source": [
    "head = mergeTwoLists(list1 = [1,2,4], list2 = [1,3,4])"
   ]
  },
  {
   "cell_type": "code",
   "execution_count": 59,
   "id": "68784502-0c23-42da-af06-e0e8ff35c947",
   "metadata": {},
   "outputs": [
    {
     "data": {
      "text/plain": [
       "[1, 1, 2, 3, 4, 4]"
      ]
     },
     "execution_count": 59,
     "metadata": {},
     "output_type": "execute_result"
    }
   ],
   "source": [
    "linked_list_to_list(mergeTwoLists(list1 = [1,2,4], list2 = [1,3,4]))"
   ]
  },
  {
   "cell_type": "code",
   "execution_count": 60,
   "id": "2c52b533-515f-435f-b97c-157e7da5b2d3",
   "metadata": {},
   "outputs": [
    {
     "data": {
      "text/plain": [
       "<__main__.ListNode at 0x2726b90cf90>"
      ]
     },
     "execution_count": 60,
     "metadata": {},
     "output_type": "execute_result"
    }
   ],
   "source": [
    "list_to_linked_list([1,1,2,3,4])"
   ]
  },
  {
   "cell_type": "code",
   "execution_count": 61,
   "id": "5a1a61a7-92e6-4dbb-898b-6654a0d21429",
   "metadata": {},
   "outputs": [
    {
     "name": "stdout",
     "output_type": "stream",
     "text": [
      "All test cases passed!\n"
     ]
    }
   ],
   "source": [
    "test_cases()"
   ]
  },
  {
   "cell_type": "markdown",
   "id": "5aa2877d-bc92-4c20-a593-801e83be67ad",
   "metadata": {},
   "source": [
    "### Recursion"
   ]
  },
  {
   "cell_type": "code",
   "execution_count": 62,
   "id": "54bb1e14-5fcc-430a-9f75-626cfbb727e0",
   "metadata": {},
   "outputs": [],
   "source": [
    "def mergeTwoLists(List1, List2):\n",
    "    if not List1 or not List2:\n",
    "        return List1 if List1 else List2\n",
    "\n",
    "    if List1.val > List2.val:\n",
    "        List1, List2 = List2, List1\n",
    "\n",
    "    List1.next = mergeTwoLists(List1.next, List2)\n",
    "\n",
    "    return List1"
   ]
  },
  {
   "cell_type": "code",
   "execution_count": 63,
   "id": "4e904271-b3aa-41e4-9b80-8cb9b4b51b1b",
   "metadata": {},
   "outputs": [],
   "source": [
    "def test_cases():\n",
    "    assert linked_list_to_list(mergeTwoLists(List1 = list_to_linked_list([1,2,4]), List2 = list_to_linked_list([1,3,4]))) == [1,1,2,3,4,4]\n",
    "    assert mergeTwoLists(List1 = list_to_linked_list([]), List2 = list_to_linked_list([])) == []\n",
    "    assert linked_list_to_list(mergeTwoLists(List1 = list_to_linked_list([]), List2 = list_to_linked_list([0]))) == [0]\n",
    "    print(\"All test cases passed!\")"
   ]
  },
  {
   "cell_type": "code",
   "execution_count": 64,
   "id": "16a4c7bd-63b4-436c-a2e4-59512a41f478",
   "metadata": {},
   "outputs": [
    {
     "name": "stdout",
     "output_type": "stream",
     "text": [
      "All test cases passed!\n"
     ]
    }
   ],
   "source": [
    "test_cases()"
   ]
  }
 ],
 "metadata": {
  "kernelspec": {
   "display_name": "Python 3 (ipykernel)",
   "language": "python",
   "name": "python3"
  },
  "language_info": {
   "codemirror_mode": {
    "name": "ipython",
    "version": 3
   },
   "file_extension": ".py",
   "mimetype": "text/x-python",
   "name": "python",
   "nbconvert_exporter": "python",
   "pygments_lexer": "ipython3",
   "version": "3.11.11"
  }
 },
 "nbformat": 4,
 "nbformat_minor": 5
}
