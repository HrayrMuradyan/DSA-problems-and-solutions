{
 "cells": [
  {
   "cell_type": "markdown",
   "id": "8b0a3e65-597b-4d4e-b6c7-92b97c077b66",
   "metadata": {},
   "source": [
    "# Length of Last Word"
   ]
  },
  {
   "cell_type": "markdown",
   "id": "dc70aa35-69f0-4bb7-bb57-d72801f44ec4",
   "metadata": {},
   "source": [
    "## Problem Definition"
   ]
  },
  {
   "cell_type": "markdown",
   "id": "f8ac43a5-70d2-4df4-8b2e-b4519883ab56",
   "metadata": {},
   "source": [
    "Given a string `s` consisting of words and spaces, return the length of the last word in the string.\n",
    "\n",
    "A word is a maximal substring consisting of non-space characters only."
   ]
  },
  {
   "cell_type": "markdown",
   "id": "067fb786-8ce4-4846-9173-2e7e5ff6ffc5",
   "metadata": {},
   "source": [
    "### Example Cases"
   ]
  },
  {
   "cell_type": "markdown",
   "id": "7b49f9c3-0faa-4402-949f-172d8fc276e7",
   "metadata": {},
   "source": [
    "**Example 1:**\n",
    "\n",
    "Input: s = \"Hello World\"  \n",
    "Output: 5  \n",
    "Explanation: The last word is \"World\" with length 5.  \n",
    "\n",
    "**Example 2:**\n",
    "\n",
    "Input: s = \"   fly me   to   the moon  \"  \n",
    "Output: 4  \n",
    "Explanation: The last word is \"moon\" with length 4.  \n",
    "\n",
    "**Example 3:**\n",
    "\n",
    "Input: s = \"luffy is still joyboy\"  \n",
    "Output: 6  \n",
    "Explanation: The last word is \"joyboy\" with length 6.  \n"
   ]
  },
  {
   "cell_type": "markdown",
   "id": "4206965c-370d-468c-a38d-b0838196f3d4",
   "metadata": {},
   "source": [
    "### Constraints"
   ]
  },
  {
   "cell_type": "markdown",
   "id": "fc4ae099-6815-4c43-b0b7-5c59fab48426",
   "metadata": {},
   "source": [
    "Constraints:\n",
    "\n",
    "- 1 <= s.length <= $10^4$\n",
    "- s consists of only English letters and spaces ' '.\n",
    "- There will be at least one word in s."
   ]
  },
  {
   "cell_type": "markdown",
   "id": "2bfa2b77-5e27-4045-9c48-b54f968a1921",
   "metadata": {},
   "source": [
    "## Example test cases"
   ]
  },
  {
   "cell_type": "code",
   "execution_count": 7,
   "id": "bb2e880b-c5cc-4dd3-a439-960501a3e695",
   "metadata": {},
   "outputs": [],
   "source": [
    "def test_cases():\n",
    "    assert lengthOfLastWord(\"Hello World\") == 5\n",
    "    assert lengthOfLastWord(\" fly me to the moon \") == 4\n",
    "    assert lengthOfLastWord(\"luffy is still joyboy\") == 6\n",
    "    print(\"All test cases passed!\")"
   ]
  },
  {
   "cell_type": "markdown",
   "id": "82ce7ac0-1452-4062-bb2c-22074c2dcdef",
   "metadata": {},
   "source": [
    "## Solutions"
   ]
  },
  {
   "cell_type": "markdown",
   "id": "20a0a85c-4775-41ab-8c5f-8c5a81dc67ce",
   "metadata": {},
   "source": [
    "$O(n)$"
   ]
  },
  {
   "cell_type": "markdown",
   "id": "5793407e-c0a0-48f7-8e9d-8f16062bc79a",
   "metadata": {},
   "source": [
    "One way to solve the problem is to reverse the string (linear time) and then start iterating over the text. The length of the first word is the solution. Word can be found by looking for empty characters (\" \"). If there is one and after it comes a string, then word starts. The word ends when we encounter another empty character."
   ]
  },
  {
   "cell_type": "code",
   "execution_count": 9,
   "id": "9f1a3caa-9490-4b5f-a13f-03a9985188e1",
   "metadata": {},
   "outputs": [],
   "source": [
    "def lengthOfLastWord(s):\n",
    "    length = 0\n",
    "    encountered_string = False\n",
    "    for letter in s[::-1]:\n",
    "        if letter != \" \" and not encountered_string:\n",
    "            length += 1\n",
    "            encountered_string = True\n",
    "        elif letter != \" \" and encountered_string:\n",
    "            length += 1\n",
    "        elif letter == \" \" and encountered_string:\n",
    "            return length"
   ]
  },
  {
   "cell_type": "markdown",
   "id": "f8722aae-436b-48da-9b87-bf07f4418ef6",
   "metadata": {},
   "source": [
    "Another solution without reversing the string."
   ]
  },
  {
   "cell_type": "code",
   "execution_count": 20,
   "id": "5e3baf93-d0e2-4766-aaf7-f63c02469f5f",
   "metadata": {},
   "outputs": [],
   "source": [
    "def lengthOfLastWord(s):\n",
    "    length = 0\n",
    "    encountered_string = False\n",
    "    lengths = []\n",
    "    for letter in s:\n",
    "        if letter != \" \" and not encountered_string:\n",
    "            length += 1\n",
    "            encountered_string = True\n",
    "        elif letter != \" \" and encountered_string:\n",
    "            length += 1\n",
    "        elif letter == \" \" and encountered_string:\n",
    "            lengths.append(length)\n",
    "            encountered_string = False\n",
    "            length = 0\n",
    "            \n",
    "    if encountered_string:      \n",
    "        lengths.append(length) \n",
    "    \n",
    "    return lengths[-1]"
   ]
  },
  {
   "cell_type": "code",
   "execution_count": 21,
   "id": "33c7843e-e2d0-4eaf-b3cf-8a7f51b8aa4c",
   "metadata": {},
   "outputs": [
    {
     "name": "stdout",
     "output_type": "stream",
     "text": [
      "All test cases passed!\n"
     ]
    }
   ],
   "source": [
    "test_cases()"
   ]
  },
  {
   "cell_type": "markdown",
   "id": "20ebb0bc-35e6-4bc1-8a88-23c42941c37f",
   "metadata": {},
   "source": [
    "Also, this can be solved using built-in functions, which probably is not the target, but still it's the simplest one:"
   ]
  },
  {
   "cell_type": "code",
   "execution_count": 22,
   "id": "1cc02c0d-d801-4f7e-b2e8-032cac8d15f6",
   "metadata": {},
   "outputs": [],
   "source": [
    "def lengthOfLastWord(s):\n",
    "    return len(s.strip().split()[-1])"
   ]
  },
  {
   "cell_type": "code",
   "execution_count": 23,
   "id": "def576d7-83b7-4623-a4bf-c6a350285387",
   "metadata": {},
   "outputs": [
    {
     "name": "stdout",
     "output_type": "stream",
     "text": [
      "All test cases passed!\n"
     ]
    }
   ],
   "source": [
    "test_cases()"
   ]
  },
  {
   "cell_type": "markdown",
   "id": "498fcee5-1649-4bd3-a4a8-1102df032227",
   "metadata": {},
   "source": [
    "A very interesting solution taken from the solutions.\n",
    "Reference: https://leetcode.com/problems/length-of-last-word/solutions/5774504/video-2-solutions-bonus/"
   ]
  },
  {
   "cell_type": "markdown",
   "id": "955ecdd0-37ca-488b-ad1f-3d062e73d6a7",
   "metadata": {},
   "source": [
    "Stripping the end while there is an empty character and then looking for all non-empty characters until we reach the next empty character."
   ]
  },
  {
   "cell_type": "code",
   "execution_count": 24,
   "id": "1cb385b9-27b6-480c-b3ae-d521ca29f6cb",
   "metadata": {},
   "outputs": [],
   "source": [
    "def lengthOfLastWord(s):                \n",
    "    end = len(s) - 1\n",
    "\n",
    "    while s[end] == \" \":\n",
    "        end -= 1\n",
    "\n",
    "    start = end\n",
    "    while start >= 0 and s[start] != \" \":\n",
    "        start -= 1\n",
    "\n",
    "    return end - start"
   ]
  },
  {
   "cell_type": "code",
   "execution_count": 25,
   "id": "d434e0cd-0fa8-436f-bc6a-23b0c9c1ecd5",
   "metadata": {},
   "outputs": [
    {
     "name": "stdout",
     "output_type": "stream",
     "text": [
      "All test cases passed!\n"
     ]
    }
   ],
   "source": [
    "test_cases()"
   ]
  }
 ],
 "metadata": {
  "kernelspec": {
   "display_name": "Python 3 (ipykernel)",
   "language": "python",
   "name": "python3"
  },
  "language_info": {
   "codemirror_mode": {
    "name": "ipython",
    "version": 3
   },
   "file_extension": ".py",
   "mimetype": "text/x-python",
   "name": "python",
   "nbconvert_exporter": "python",
   "pygments_lexer": "ipython3",
   "version": "3.9.13"
  }
 },
 "nbformat": 4,
 "nbformat_minor": 5
}
