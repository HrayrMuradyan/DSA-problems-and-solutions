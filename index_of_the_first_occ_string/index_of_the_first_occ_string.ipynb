{
 "cells": [
  {
   "cell_type": "markdown",
   "id": "8b0a3e65-597b-4d4e-b6c7-92b97c077b66",
   "metadata": {},
   "source": [
    "# Find the Index of the First Occurrence in a String"
   ]
  },
  {
   "cell_type": "markdown",
   "id": "dc70aa35-69f0-4bb7-bb57-d72801f44ec4",
   "metadata": {},
   "source": [
    "## Problem Definition"
   ]
  },
  {
   "cell_type": "markdown",
   "id": "f8ac43a5-70d2-4df4-8b2e-b4519883ab56",
   "metadata": {},
   "source": [
    "Given two strings needle and haystack, return the index of the first occurrence of needle in haystack, or -1 if needle is not part of haystack."
   ]
  },
  {
   "cell_type": "markdown",
   "id": "067fb786-8ce4-4846-9173-2e7e5ff6ffc5",
   "metadata": {},
   "source": [
    "### Example Cases"
   ]
  },
  {
   "cell_type": "markdown",
   "id": "7b49f9c3-0faa-4402-949f-172d8fc276e7",
   "metadata": {},
   "source": [
    "**Example 1:**\n",
    "\n",
    "Input: haystack = \"sadbutsad\", needle = \"sad\"  \n",
    "Output: 0  \n",
    "Explanation: \"sad\" occurs at index 0 and 6.  \n",
    "The first occurrence is at index 0, so we return 0.  \n",
    "\n",
    "**Example 2:**\n",
    "\n",
    "Input: haystack = \"leetcode\", needle = \"leeto\"  \n",
    "Output: -1  \n",
    "Explanation: \"leeto\" did not occur in \"leetcode\", so we return -1.  "
   ]
  },
  {
   "cell_type": "markdown",
   "id": "4206965c-370d-468c-a38d-b0838196f3d4",
   "metadata": {},
   "source": [
    "### Constraints"
   ]
  },
  {
   "cell_type": "markdown",
   "id": "fc4ae099-6815-4c43-b0b7-5c59fab48426",
   "metadata": {},
   "source": [
    "Constraints:\n",
    " \n",
    "1 <= haystack.length, needle.length <= $10^4$  \n",
    "haystack and needle consist of only lowercase English characters.  "
   ]
  },
  {
   "cell_type": "markdown",
   "id": "2bfa2b77-5e27-4045-9c48-b54f968a1921",
   "metadata": {},
   "source": [
    "## Example test cases"
   ]
  },
  {
   "cell_type": "code",
   "execution_count": 2,
   "id": "bb2e880b-c5cc-4dd3-a439-960501a3e695",
   "metadata": {},
   "outputs": [],
   "source": [
    "def test_cases():\n",
    "    assert strStr(haystack=\"sadbutsad\", needle=\"sad\") == 0\n",
    "    assert strStr(haystack=\"leetcode\", needle=\"leeto\") == -1\n",
    "    print(\"All test cases passed!\")"
   ]
  },
  {
   "cell_type": "markdown",
   "id": "82ce7ac0-1452-4062-bb2c-22074c2dcdef",
   "metadata": {},
   "source": [
    "## Solutions"
   ]
  },
  {
   "cell_type": "markdown",
   "id": "f672148d-faa0-4837-98a7-1fb1e96a5045",
   "metadata": {},
   "source": [
    "$O(nm)$, n = len(haystack), m = len(needle)"
   ]
  },
  {
   "cell_type": "code",
   "execution_count": 47,
   "id": "e581ae9a-45c3-472e-8e50-1308cfbfc6a0",
   "metadata": {},
   "outputs": [],
   "source": [
    "def strStr(haystack, needle):\n",
    "    if len(haystack) < len(needle):\n",
    "        return -1\n",
    "    haystack_pointer = 0\n",
    "    needle_pointer = 0\n",
    "    n_correct = 0\n",
    "    while haystack_pointer <= len(haystack) - 1:\n",
    "        if len(haystack) - haystack_pointer < len(needle):\n",
    "            return -1\n",
    "        if haystack[haystack_pointer] == needle[0]:\n",
    "            needle_pointer += 1\n",
    "            n_correct += 1\n",
    "            while needle_pointer <= len(needle) - 1:\n",
    "                if haystack[haystack_pointer + needle_pointer] == needle[needle_pointer]:\n",
    "                    n_correct += 1\n",
    "                needle_pointer += 1\n",
    "            if n_correct == len(needle):\n",
    "                return haystack_pointer\n",
    "            n_correct = 0\n",
    "            needle_pointer = 0\n",
    "        haystack_pointer += 1\n",
    "    return -1"
   ]
  },
  {
   "cell_type": "code",
   "execution_count": 48,
   "id": "4c1506f1-25e9-48fe-9257-4b6376c9d8e1",
   "metadata": {},
   "outputs": [
    {
     "name": "stdout",
     "output_type": "stream",
     "text": [
      "All test cases passed!\n"
     ]
    }
   ],
   "source": [
    "test_cases()"
   ]
  },
  {
   "cell_type": "markdown",
   "id": "f39ccddb-d823-4933-84dc-5576001f3e54",
   "metadata": {},
   "source": [
    "The code is super messy and complex."
   ]
  },
  {
   "cell_type": "markdown",
   "id": "817a3712-bfdd-4578-93a7-01fd35754217",
   "metadata": {},
   "source": [
    "### Improvements"
   ]
  },
  {
   "cell_type": "markdown",
   "id": "34569ceb-dfe7-4f75-bd09-8e6e56301d79",
   "metadata": {},
   "source": [
    "$O(nm)$"
   ]
  },
  {
   "cell_type": "markdown",
   "id": "ef6c59b5-30c0-41bb-98c3-fcbbf4f0babe",
   "metadata": {},
   "source": [
    "We can use the fact that strings are sequences and slice part of it to check if it's equal to the needle or not.\n",
    "Also, the for loop can be stopped when the pointer is greater than len(haystack) - len(needle). This will handle the case of len(needle) > len(haystack) as well"
   ]
  },
  {
   "cell_type": "code",
   "execution_count": 62,
   "id": "9c4ac111-a95c-431e-bf8e-01fe0af40ca1",
   "metadata": {},
   "outputs": [],
   "source": [
    "def strStr(haystack, needle):\n",
    "    needle_len = len(needle)\n",
    "    pointer = 0\n",
    "    while pointer <= (len(haystack) - needle_len):\n",
    "        if haystack[pointer: pointer+needle_len] == needle:\n",
    "            return pointer\n",
    "        pointer+=1\n",
    "    return -1"
   ]
  },
  {
   "cell_type": "code",
   "execution_count": 64,
   "id": "eafe8254-5603-472a-9fb6-3b793a6a0840",
   "metadata": {},
   "outputs": [
    {
     "name": "stdout",
     "output_type": "stream",
     "text": [
      "All test cases passed!\n"
     ]
    }
   ],
   "source": [
    "test_cases()"
   ]
  }
 ],
 "metadata": {
  "kernelspec": {
   "display_name": "Python 3 (ipykernel)",
   "language": "python",
   "name": "python3"
  },
  "language_info": {
   "codemirror_mode": {
    "name": "ipython",
    "version": 3
   },
   "file_extension": ".py",
   "mimetype": "text/x-python",
   "name": "python",
   "nbconvert_exporter": "python",
   "pygments_lexer": "ipython3",
   "version": "3.11.11"
  }
 },
 "nbformat": 4,
 "nbformat_minor": 5
}
