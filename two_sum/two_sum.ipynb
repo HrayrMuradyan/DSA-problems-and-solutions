{
 "cells": [
  {
   "cell_type": "markdown",
   "id": "55c0b352-a566-4a67-b204-e8cb0450e703",
   "metadata": {},
   "source": [
    "# Two Sum"
   ]
  },
  {
   "cell_type": "markdown",
   "id": "d2d98f45-a4ed-415f-9fae-bd17bc70e839",
   "metadata": {},
   "source": [
    "## Problem definition"
   ]
  },
  {
   "cell_type": "markdown",
   "id": "54db7c30-ebc3-4014-a887-57273c855af4",
   "metadata": {},
   "source": [
    "Given an array of integers `nums` and an integer `target`, return indices of the two numbers such that they add up to `target`.\n",
    "\n",
    "You may assume that each input would have **exactly one solution**, and you may not use the same element twice.\n",
    "\n",
    "You can return the answer in any order."
   ]
  },
  {
   "cell_type": "markdown",
   "id": "a20db1c9-88a1-45df-b8e0-8be41cdd327d",
   "metadata": {},
   "source": [
    "#### Example cases"
   ]
  },
  {
   "cell_type": "markdown",
   "id": "aa1d0f2a-53e6-471d-a2ef-343431784a60",
   "metadata": {},
   "source": [
    "**Example 1:**\n",
    "\n",
    "Input: nums = [2,7,11,15], target = 9  \n",
    "Output: [0,1]  \n",
    "Explanation: Because nums[0] + nums[1] == 9, we return [0, 1].  \n",
    "\n",
    "**Example 2:** \n",
    "\n",
    "Input: nums = [3,2,4], target = 6  \n",
    "Output: [1,2]  \n",
    "\n",
    "**Example 3:**\n",
    "\n",
    "Input: nums = [3,3], target = 6  \n",
    "Output: [0,1]  "
   ]
  },
  {
   "cell_type": "markdown",
   "id": "9c121c41-a774-473b-a273-1399cd70fddb",
   "metadata": {},
   "source": [
    "#### Constraints:\n",
    "\n",
    "2 <= nums.length <= 104  \n",
    "-109 <= nums[i] <= 109  \n",
    "-109 <= target <= 109  \n",
    "\n",
    "Only one valid answer exists.  "
   ]
  },
  {
   "cell_type": "markdown",
   "id": "445da82f-b4b0-4af5-a75d-9a8932d8d5e4",
   "metadata": {},
   "source": [
    "## Example test cases"
   ]
  },
  {
   "cell_type": "code",
   "execution_count": 1,
   "id": "3ab4125f-298e-49fe-9f43-6be4f028a805",
   "metadata": {},
   "outputs": [],
   "source": [
    "def test_cases():\n",
    "    assert two_sum([2, 7, 11, 15], 9) == [0, 1]\n",
    "    assert two_sum([3, 2, 4], 6) == [1, 2]\n",
    "    assert two_sum([3, 3], 6) == [0, 1] \n",
    "    print(\"All test cases passed!\")"
   ]
  },
  {
   "cell_type": "markdown",
   "id": "962433c9-9e3e-444f-bbea-3da3f42744f2",
   "metadata": {},
   "source": [
    "## Solutions"
   ]
  },
  {
   "cell_type": "markdown",
   "id": "06a6037a-40df-4836-a682-014736e0a4e6",
   "metadata": {},
   "source": [
    "$O(n^2)$"
   ]
  },
  {
   "cell_type": "markdown",
   "id": "04aed824-359b-486d-b0b0-8e1c66f78de6",
   "metadata": {},
   "source": [
    "Brute-force solution by checking all the possible combinations. "
   ]
  },
  {
   "cell_type": "code",
   "execution_count": 2,
   "id": "b9a63230-2663-490d-830d-b767e6016cc8",
   "metadata": {},
   "outputs": [],
   "source": [
    "def two_sum(nums, target):\n",
    "    element_indices = range(len(nums))\n",
    "    for i in element_indices:\n",
    "        for j in element_indices:\n",
    "            if nums[i] + nums[j] == target and (i != j):\n",
    "                return [i, j]"
   ]
  },
  {
   "cell_type": "code",
   "execution_count": 3,
   "id": "3409310d-d3a6-433a-b86f-79f8f49c20b3",
   "metadata": {},
   "outputs": [
    {
     "name": "stdout",
     "output_type": "stream",
     "text": [
      "All test cases passed!\n"
     ]
    }
   ],
   "source": [
    "test_cases()"
   ]
  },
  {
   "cell_type": "markdown",
   "id": "cafca45a-7951-47d2-bec1-e70e6499cd28",
   "metadata": {},
   "source": [
    "$O(nlogn)$"
   ]
  },
  {
   "cell_type": "markdown",
   "id": "690fdb48-6d9c-4295-91c0-b8fd5373d0cc",
   "metadata": {},
   "source": [
    "If the array is sorted, there are some interesting solutions. Sorting is $O(nlogn)$.\n",
    "Then we can use two pointer approach to find the sum. The problem here arises with the fact that the indices are mixed after sorting. So, we need to remember them before sorting. Finally, get the original indices instead of the sorted ones."
   ]
  },
  {
   "cell_type": "code",
   "execution_count": 4,
   "id": "7b6eb846-437b-49dc-a627-f4dc7c216425",
   "metadata": {},
   "outputs": [],
   "source": [
    "def two_sum(nums, target):\n",
    "    nums = [(num, i) for i, num in enumerate(nums)]\n",
    "    nums.sort(key = lambda x: x[0])\n",
    "    pointer1 = 0\n",
    "    pointer2 = len(nums) - 1\n",
    "    while not (pointer1 > pointer2):\n",
    "        numbers_sum = nums[pointer1][0] + nums[pointer2][0]\n",
    "        if numbers_sum == target:\n",
    "            return [nums[pointer1][1], nums[pointer2][1]]\n",
    "        elif numbers_sum > target:\n",
    "            pointer2 = pointer2 - 1\n",
    "        elif numbers_sum < target:\n",
    "            pointer1 = pointer1 + 1"
   ]
  },
  {
   "cell_type": "code",
   "execution_count": 5,
   "id": "8999d219-f258-42d6-99c3-8d2858c765b1",
   "metadata": {},
   "outputs": [
    {
     "name": "stdout",
     "output_type": "stream",
     "text": [
      "All test cases passed!\n"
     ]
    }
   ],
   "source": [
    "test_cases()"
   ]
  },
  {
   "cell_type": "markdown",
   "id": "3e38946e-93c6-4140-a877-c799c2edecea",
   "metadata": {},
   "source": [
    "$O(n)$"
   ]
  },
  {
   "cell_type": "markdown",
   "id": "0c30bf74-f1b8-45c2-a091-c0b04eef7c2a",
   "metadata": {},
   "source": [
    "If we keep the remainder (and it's index) after subtracting the number from the target, we will later search in the container if we have that remainder.\n",
    "If the remainder is found, we can just take the index out and use it with the index of the number corresponding to the remainder."
   ]
  },
  {
   "cell_type": "code",
   "execution_count": 6,
   "id": "3ac44e62-88d3-43a6-89ac-195963ce2d2f",
   "metadata": {},
   "outputs": [],
   "source": [
    "def two_sum(nums, target):\n",
    "    remainders = {}\n",
    "    for i, number in enumerate(nums):\n",
    "        remainder = target-number\n",
    "        if number in remainders:\n",
    "            return [remainders[number], i]\n",
    "        remainders[remainder] = i"
   ]
  },
  {
   "cell_type": "code",
   "execution_count": 7,
   "id": "162d51af-76aa-46bd-b969-54dced743721",
   "metadata": {},
   "outputs": [
    {
     "data": {
      "text/plain": [
       "[0, 1]"
      ]
     },
     "execution_count": 7,
     "metadata": {},
     "output_type": "execute_result"
    }
   ],
   "source": [
    "two_sum([2, 7, 11, 15], 9)"
   ]
  },
  {
   "cell_type": "code",
   "execution_count": 8,
   "id": "b2abea61-a303-48ec-a20c-f6e15643506a",
   "metadata": {},
   "outputs": [
    {
     "name": "stdout",
     "output_type": "stream",
     "text": [
      "All test cases passed!\n"
     ]
    }
   ],
   "source": [
    "test_cases()"
   ]
  }
 ],
 "metadata": {
  "kernelspec": {
   "display_name": "MusicGen",
   "language": "python",
   "name": "musicgen"
  },
  "language_info": {
   "codemirror_mode": {
    "name": "ipython",
    "version": 3
   },
   "file_extension": ".py",
   "mimetype": "text/x-python",
   "name": "python",
   "nbconvert_exporter": "python",
   "pygments_lexer": "ipython3",
   "version": "3.9.0"
  }
 },
 "nbformat": 4,
 "nbformat_minor": 5
}
