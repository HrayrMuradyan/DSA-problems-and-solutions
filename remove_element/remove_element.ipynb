{
 "cells": [
  {
   "cell_type": "markdown",
   "id": "8b0a3e65-597b-4d4e-b6c7-92b97c077b66",
   "metadata": {},
   "source": [
    "# Remove Element"
   ]
  },
  {
   "cell_type": "markdown",
   "id": "dc70aa35-69f0-4bb7-bb57-d72801f44ec4",
   "metadata": {},
   "source": [
    "## Problem Definition"
   ]
  },
  {
   "cell_type": "markdown",
   "id": "f8ac43a5-70d2-4df4-8b2e-b4519883ab56",
   "metadata": {},
   "source": [
    "Given an integer array nums and an integer val, remove all occurrences of val in nums in-place. The order of the elements may be changed. Then return the number of elements in nums which are not equal to val.\n",
    "\n",
    "Consider the number of elements in nums which are not equal to val be k, to get accepted, you need to do the following things:\n",
    "\n",
    "- Change the array nums such that the first k elements of nums contain the elements which are not equal to val. The remaining elements of nums are not important as well as the size of nums.\n",
    "- Return k."
   ]
  },
  {
   "cell_type": "markdown",
   "id": "b04a898c-ec93-4ecd-a65d-f18991260060",
   "metadata": {},
   "source": [
    "#### Judge"
   ]
  },
  {
   "cell_type": "code",
   "execution_count": 1,
   "id": "e23a4b21-68e0-4c2d-8e2f-7236d9bd34b7",
   "metadata": {},
   "outputs": [],
   "source": [
    "def judge_remove_element(remove_element, nums, val, expected_nums):\n",
    "    nums_copy = nums.copy()\n",
    "\n",
    "    k = remove_element(nums_copy, val)\n",
    "\n",
    "    assert k == len(expected_nums), f\"Expected length {len(expected_nums)}, got {k}\"\n",
    "\n",
    "    nums_copy[:k] = sorted(nums_copy[:k])\n",
    "\n",
    "    for i in range(k):\n",
    "        assert nums_copy[i] == expected_nums[i], f\"Mismatch at index {i}: expected {expected_nums[i]}, got {nums_copy[i]}\"\n",
    "\n",
    "    print(\"All tests passed!\")"
   ]
  },
  {
   "cell_type": "markdown",
   "id": "067fb786-8ce4-4846-9173-2e7e5ff6ffc5",
   "metadata": {},
   "source": [
    "### Example Cases"
   ]
  },
  {
   "cell_type": "markdown",
   "id": "7b49f9c3-0faa-4402-949f-172d8fc276e7",
   "metadata": {},
   "source": [
    "**Example 1:**\n",
    "\n",
    "Input: nums = [3,2,2,3], val = 3  \n",
    "Output: 2, nums = [2,2,'','']   \n",
    "Explanation: Your function should return k = 2, with the first two elements of nums being 2.  \n",
    "It does not matter what you leave beyond the returned k (hence they are underscores).  \n",
    "\n",
    "**Example 2:**\n",
    "\n",
    "Input: nums = [0,1,2,2,3,0,4,2], val = 2   \n",
    "Output: 5, nums = [0,1,4,0,3,'','','']   \n",
    "Explanation: Your function should return k = 5, with the first five elements of nums containing 0, 0, 1, 3, and 4.   \n",
    "Note that the five elements can be returned in any order.   \n",
    "It does not matter what you leave beyond the returned k (hence they are underscores).  "
   ]
  },
  {
   "cell_type": "markdown",
   "id": "4206965c-370d-468c-a38d-b0838196f3d4",
   "metadata": {},
   "source": [
    "### Constraints"
   ]
  },
  {
   "cell_type": "markdown",
   "id": "fc4ae099-6815-4c43-b0b7-5c59fab48426",
   "metadata": {},
   "source": [
    "Constraints:\n",
    "\n",
    "- 0 <= nums.length <= 100\n",
    "- 0 <= nums[i] <= 50\n",
    "- 0 <= val <= 100"
   ]
  },
  {
   "cell_type": "markdown",
   "id": "2bfa2b77-5e27-4045-9c48-b54f968a1921",
   "metadata": {},
   "source": [
    "## Example test cases"
   ]
  },
  {
   "cell_type": "code",
   "execution_count": 4,
   "id": "bb2e880b-c5cc-4dd3-a439-960501a3e695",
   "metadata": {},
   "outputs": [],
   "source": [
    "def test_cases():\n",
    "    count, nums = removeElement([3,2,2,3], 3)\n",
    "    assert (count, nums) == (2, [2,2,'',''])\n",
    "    count, nums = removeElement([0,1,2,2,3,0,4,2], 2)\n",
    "    assert (count, nums) == (5, [0,1,4,0,3,'','',''])\n",
    "    print(\"All test cases passed!\")"
   ]
  },
  {
   "cell_type": "markdown",
   "id": "82ce7ac0-1452-4062-bb2c-22074c2dcdef",
   "metadata": {},
   "source": [
    "## Solutions"
   ]
  },
  {
   "cell_type": "markdown",
   "id": "5f29b91d-02e1-4f11-8a33-9d9abed1f01a",
   "metadata": {},
   "source": [
    "$O(n*logn)$"
   ]
  },
  {
   "cell_type": "markdown",
   "id": "2382b2d1-648d-418e-9872-952c4ea9c91c",
   "metadata": {},
   "source": [
    "The first solution I suggest to go with is to check if the number if equal to the target value or not. If yes, replace it with a number higher than the contraint largest value (101 for instance). If not, then add 1 to a counter. Sort the list and return the counter."
   ]
  },
  {
   "cell_type": "code",
   "execution_count": 30,
   "id": "dda8a224-22ff-4484-a1b5-6cabfa0766af",
   "metadata": {},
   "outputs": [],
   "source": [
    "def removeElement(nums, val):\n",
    "    occ = 0\n",
    "    for index, num in enumerate(nums):\n",
    "        if num == val:\n",
    "            nums[index] = 101\n",
    "        else: \n",
    "            occ += 1\n",
    "\n",
    "    return occ, sorted(nums)"
   ]
  },
  {
   "cell_type": "code",
   "execution_count": 31,
   "id": "01234adf-7140-4e64-a75c-833778c2a1e1",
   "metadata": {},
   "outputs": [
    {
     "data": {
      "text/plain": [
       "(2, [2, 2, 101, 101])"
      ]
     },
     "execution_count": 31,
     "metadata": {},
     "output_type": "execute_result"
    }
   ],
   "source": [
    "removeElement([3,2,2,3], 3)"
   ]
  },
  {
   "cell_type": "code",
   "execution_count": 32,
   "id": "87d5a946-af6e-4eb6-9aec-c08b3467d9d8",
   "metadata": {},
   "outputs": [
    {
     "data": {
      "text/plain": [
       "(5, [0, 0, 1, 3, 4, 101, 101, 101])"
      ]
     },
     "execution_count": 32,
     "metadata": {},
     "output_type": "execute_result"
    }
   ],
   "source": [
    "removeElement([0,1,2,2,3,0,4,2], 2)"
   ]
  },
  {
   "cell_type": "code",
   "execution_count": 33,
   "id": "1d26fb18-1b77-4237-bc4b-f10f5fff346c",
   "metadata": {},
   "outputs": [],
   "source": [
    "def removeElement(nums, val):\n",
    "    occ = 0\n",
    "    for index, num in enumerate(nums):\n",
    "        if num == val:\n",
    "            nums[index] = 101\n",
    "        else: \n",
    "            occ += 1\n",
    "    nums.sort()\n",
    "\n",
    "    return occ"
   ]
  },
  {
   "cell_type": "code",
   "execution_count": 34,
   "id": "ad89a292-57ff-4e9b-b4c1-8ec60785742b",
   "metadata": {},
   "outputs": [
    {
     "name": "stdout",
     "output_type": "stream",
     "text": [
      "All tests passed!\n"
     ]
    }
   ],
   "source": [
    "judge_remove_element(removeElement, [0,1,2,2,3,0,4,2], 2, [0, 0, 1, 3, 4])"
   ]
  },
  {
   "cell_type": "code",
   "execution_count": 35,
   "id": "1322db92-a964-4916-8c1a-05a1410d2319",
   "metadata": {},
   "outputs": [
    {
     "name": "stdout",
     "output_type": "stream",
     "text": [
      "All tests passed!\n"
     ]
    }
   ],
   "source": [
    "judge_remove_element(removeElement, [3,2,2,3], 3, [2, 2])"
   ]
  },
  {
   "cell_type": "markdown",
   "id": "4db7a8d3-ce1a-4cde-9bcc-95f6868a4d75",
   "metadata": {},
   "source": [
    "### Improvements"
   ]
  },
  {
   "cell_type": "markdown",
   "id": "d824d786-0603-42af-9f41-24b931c51b01",
   "metadata": {},
   "source": [
    "$O(n)$"
   ]
  },
  {
   "cell_type": "markdown",
   "id": "1ea33176-e750-4ba9-8ecc-574221227b1a",
   "metadata": {},
   "source": [
    "We can keep a pointer on an equal value until we replace it with an unequal value. If we get all the unequal values from the right side and replace all equal values with those we will end up having unequal values on the left. The order may change as suggested in the problem. "
   ]
  },
  {
   "cell_type": "code",
   "execution_count": 50,
   "id": "27217743-4b87-48c5-8ffa-5538e831ec5e",
   "metadata": {},
   "outputs": [],
   "source": [
    "def removeElement(nums, val):\n",
    "    pointer = 0\n",
    "    occ = 0\n",
    "    for num in nums:\n",
    "        if num != val:\n",
    "            nums[pointer] = num\n",
    "            occ += 1\n",
    "            pointer += 1\n",
    "\n",
    "    return occ"
   ]
  },
  {
   "cell_type": "code",
   "execution_count": 51,
   "id": "5b4a3510-0de0-4e6c-8ca9-8d6267035a92",
   "metadata": {},
   "outputs": [
    {
     "data": {
      "text/plain": [
       "2"
      ]
     },
     "execution_count": 51,
     "metadata": {},
     "output_type": "execute_result"
    }
   ],
   "source": [
    "removeElement([3,2,2,3], 3)"
   ]
  },
  {
   "cell_type": "code",
   "execution_count": 52,
   "id": "ad93f2b0-c023-4b54-8286-206dd84b40f6",
   "metadata": {},
   "outputs": [
    {
     "data": {
      "text/plain": [
       "5"
      ]
     },
     "execution_count": 52,
     "metadata": {},
     "output_type": "execute_result"
    }
   ],
   "source": [
    "removeElement([0,1,2,2,3,0,4,2], 2)"
   ]
  },
  {
   "cell_type": "code",
   "execution_count": 53,
   "id": "1d69accd-e2f6-4f81-af64-e94bdcdb92c3",
   "metadata": {},
   "outputs": [
    {
     "name": "stdout",
     "output_type": "stream",
     "text": [
      "All tests passed!\n"
     ]
    }
   ],
   "source": [
    "judge_remove_element(removeElement, [0,1,2,2,3,0,4,2], 2, [0, 0, 1, 3, 4])"
   ]
  },
  {
   "cell_type": "code",
   "execution_count": 54,
   "id": "7a123ca0-a240-4e61-9ea8-2f5c4e801ab2",
   "metadata": {},
   "outputs": [
    {
     "name": "stdout",
     "output_type": "stream",
     "text": [
      "All tests passed!\n"
     ]
    }
   ],
   "source": [
    "judge_remove_element(removeElement, [3,2,2,3], 3, [2, 2])"
   ]
  }
 ],
 "metadata": {
  "kernelspec": {
   "display_name": "Python 3 (ipykernel)",
   "language": "python",
   "name": "python3"
  },
  "language_info": {
   "codemirror_mode": {
    "name": "ipython",
    "version": 3
   },
   "file_extension": ".py",
   "mimetype": "text/x-python",
   "name": "python",
   "nbconvert_exporter": "python",
   "pygments_lexer": "ipython3",
   "version": "3.11.11"
  }
 },
 "nbformat": 4,
 "nbformat_minor": 5
}
