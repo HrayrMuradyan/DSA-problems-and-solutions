{
 "cells": [
  {
   "cell_type": "markdown",
   "id": "8b0a3e65-597b-4d4e-b6c7-92b97c077b66",
   "metadata": {},
   "source": [
    "# Roman to Integer"
   ]
  },
  {
   "cell_type": "markdown",
   "id": "dc70aa35-69f0-4bb7-bb57-d72801f44ec4",
   "metadata": {},
   "source": [
    "## Problem Definition"
   ]
  },
  {
   "cell_type": "markdown",
   "id": "f8ac43a5-70d2-4df4-8b2e-b4519883ab56",
   "metadata": {},
   "source": [
    "Roman numerals are represented by seven different symbols: `I, V, X, L, C, D and M`.\n",
    "```\n",
    "Symbol       Value\n",
    "I             1\n",
    "V             5\n",
    "X             10\n",
    "L             50\n",
    "C             100\n",
    "D             500\n",
    "M             1000\n",
    "```\n",
    "For example, `2` is written as `II` in Roman numeral, just two ones added together. `12` is written as `XII`, which is simply `X + II`. The number `27` is written as `XXVII`, which is `XX + V + II`.\n",
    "\n",
    "Roman numerals are usually written largest to smallest from left to right. However, the numeral for four is not `IIII`. Instead, the number four is written as `IV`. Because the one is before the five we subtract it making four. The same principle applies to the number nine, which is written as `IX`. There are six instances where subtraction is used:\n",
    "\n",
    "- I can be placed before V (5) and X (10) to make 4 and 9. \n",
    "- X can be placed before L (50) and C (100) to make 40 and 90. \n",
    "- C can be placed before D (500) and M (1000) to make 400 and 900.\n",
    "\n",
    "Given a roman numeral, convert it to an integer."
   ]
  },
  {
   "cell_type": "markdown",
   "id": "067fb786-8ce4-4846-9173-2e7e5ff6ffc5",
   "metadata": {},
   "source": [
    "### Example Cases"
   ]
  },
  {
   "cell_type": "markdown",
   "id": "7b49f9c3-0faa-4402-949f-172d8fc276e7",
   "metadata": {},
   "source": [
    "**Example 1:**\n",
    "\n",
    "Input: s = \"III\"  \n",
    "Output: 3  \n",
    "Explanation: III = 3.  \n",
    "\n",
    "**Example 2:**\n",
    "\n",
    "Input: s = \"LVIII\"  \n",
    "Output: 58  \n",
    "Explanation: L = 50, V= 5, III = 3.  \n",
    "\n",
    "**Example 3:**\n",
    "\n",
    "Input: s = \"MCMXCIV\"  \n",
    "Output: 1994  \n",
    "Explanation: M = 1000, CM = 900, XC = 90 and IV = 4.  "
   ]
  },
  {
   "cell_type": "markdown",
   "id": "4206965c-370d-468c-a38d-b0838196f3d4",
   "metadata": {},
   "source": [
    "### Constraints"
   ]
  },
  {
   "cell_type": "markdown",
   "id": "fc4ae099-6815-4c43-b0b7-5c59fab48426",
   "metadata": {},
   "source": [
    "Constraints:\n",
    "\n",
    "- 1 <= s.length <= 15  \n",
    "- s contains only the characters ('I', 'V', 'X', 'L', 'C', 'D', 'M').   \n",
    "- It is guaranteed that s is a valid roman numeral in the range [1, 3999].  "
   ]
  },
  {
   "cell_type": "markdown",
   "id": "2bfa2b77-5e27-4045-9c48-b54f968a1921",
   "metadata": {},
   "source": [
    "## Example test cases"
   ]
  },
  {
   "cell_type": "code",
   "execution_count": 1,
   "id": "bb2e880b-c5cc-4dd3-a439-960501a3e695",
   "metadata": {},
   "outputs": [],
   "source": [
    "def test_cases():\n",
    "    assert romanToInt(\"III\") == 3\n",
    "    assert romanToInt(\"LVIII\") == 58\n",
    "    assert romanToInt(\"MCMXCIV\") == 1994\n",
    "    print(\"All test cases passed!\")"
   ]
  },
  {
   "cell_type": "markdown",
   "id": "82ce7ac0-1452-4062-bb2c-22074c2dcdef",
   "metadata": {},
   "source": [
    "## Solutions"
   ]
  },
  {
   "cell_type": "markdown",
   "id": "eaab2d3e-a1ec-427f-a86a-8f19b203a2b7",
   "metadata": {},
   "source": [
    "$O(n)$ "
   ]
  },
  {
   "cell_type": "markdown",
   "id": "5b8eea36-a207-41c4-be90-c2cad0f207b4",
   "metadata": {},
   "source": [
    "The solution that came up first to my mind was to iterate over the letters and check the next item.  \n",
    "\n",
    "If the next letter has a bigger value in the mapping than the current one, then: \n",
    "- add to the result the difference and skip the next letter\n",
    "  \n",
    "else:  \n",
    "\n",
    "- add the current letter's value."
   ]
  },
  {
   "cell_type": "code",
   "execution_count": 4,
   "id": "d2a1a836-457b-45cf-89b0-f0c123cf017b",
   "metadata": {},
   "outputs": [],
   "source": [
    "mapping = {\n",
    "    \"I\": 1,\n",
    "    \"V\": 5,\n",
    "    \"X\": 10,\n",
    "    \"L\": 50,\n",
    "    \"C\": 100,\n",
    "    \"D\": 500,\n",
    "    \"M\": 1000\n",
    "}"
   ]
  },
  {
   "cell_type": "code",
   "execution_count": 49,
   "id": "daf8d9ce-c42b-4325-be1d-de0095eb620b",
   "metadata": {},
   "outputs": [],
   "source": [
    "def romanToInt(s):\n",
    "    res = 0\n",
    "    pointer = 0\n",
    "    while pointer < len(s):\n",
    "        curr_el = mapping[s[pointer]]\n",
    "        next_el = mapping[s[pointer+1]] if (len(s) - pointer) > 1 else 0\n",
    "        if next_el > curr_el:\n",
    "            res += (next_el - curr_el)\n",
    "            pointer += 2\n",
    "        else:\n",
    "            res += curr_el\n",
    "            pointer += 1\n",
    "    return res"
   ]
  },
  {
   "cell_type": "code",
   "execution_count": 48,
   "id": "c7d49f84-8473-45cb-89ea-789a217dccb7",
   "metadata": {},
   "outputs": [
    {
     "name": "stdout",
     "output_type": "stream",
     "text": [
      "All test cases passed!\n"
     ]
    }
   ],
   "source": [
    "test_cases()"
   ]
  },
  {
   "cell_type": "markdown",
   "id": "8df7916d-3cf2-4482-8d21-c52fda310b3f",
   "metadata": {},
   "source": [
    "$O(n)$"
   ]
  },
  {
   "cell_type": "markdown",
   "id": "b9fca470-32d9-4cb3-8146-e4cddb9e667c",
   "metadata": {},
   "source": [
    "Same can be written in the reverse, which can be more readable and efficient removing the need for extra condition check."
   ]
  },
  {
   "cell_type": "code",
   "execution_count": 54,
   "id": "1e68f924-d82e-498d-a6e5-c8c1b4475a57",
   "metadata": {},
   "outputs": [],
   "source": [
    "def romanToInt(s):\n",
    "    res = 0\n",
    "    start = 0\n",
    "    for el in reversed(s):\n",
    "        if mapping[el] < start:\n",
    "            res -= mapping[el]\n",
    "        else:\n",
    "            res += mapping[el]\n",
    "        start = mapping[el]\n",
    "    return res"
   ]
  },
  {
   "cell_type": "code",
   "execution_count": 55,
   "id": "e79f2f88-179d-4f9e-8aa1-1251d4e9919e",
   "metadata": {},
   "outputs": [
    {
     "name": "stdout",
     "output_type": "stream",
     "text": [
      "All test cases passed!\n"
     ]
    }
   ],
   "source": [
    "test_cases()"
   ]
  }
 ],
 "metadata": {
  "kernelspec": {
   "display_name": "Python 3 (ipykernel)",
   "language": "python",
   "name": "python3"
  },
  "language_info": {
   "codemirror_mode": {
    "name": "ipython",
    "version": 3
   },
   "file_extension": ".py",
   "mimetype": "text/x-python",
   "name": "python",
   "nbconvert_exporter": "python",
   "pygments_lexer": "ipython3",
   "version": "3.9.0"
  }
 },
 "nbformat": 4,
 "nbformat_minor": 5
}
