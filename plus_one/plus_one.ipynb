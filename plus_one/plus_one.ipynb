{
 "cells": [
  {
   "cell_type": "markdown",
   "id": "8b0a3e65-597b-4d4e-b6c7-92b97c077b66",
   "metadata": {},
   "source": [
    "# Plus One"
   ]
  },
  {
   "cell_type": "markdown",
   "id": "dc70aa35-69f0-4bb7-bb57-d72801f44ec4",
   "metadata": {},
   "source": [
    "## Problem Definition"
   ]
  },
  {
   "cell_type": "markdown",
   "id": "f8ac43a5-70d2-4df4-8b2e-b4519883ab56",
   "metadata": {},
   "source": [
    "You are given a large integer represented as an integer array digits, where each digits[i] is the ith digit of the integer. The digits are ordered from most significant to least significant in left-to-right order. The large integer does not contain any leading 0's.\n",
    "\n",
    "Increment the large integer by one and return the resulting array of digits."
   ]
  },
  {
   "cell_type": "markdown",
   "id": "067fb786-8ce4-4846-9173-2e7e5ff6ffc5",
   "metadata": {},
   "source": [
    "### Example Cases"
   ]
  },
  {
   "cell_type": "markdown",
   "id": "7b49f9c3-0faa-4402-949f-172d8fc276e7",
   "metadata": {},
   "source": [
    "**Example 1:**\n",
    "\n",
    "Input: digits = [1,2,3]  \n",
    "Output: [1,2,4]  \n",
    "Explanation: The array represents the integer 123.  \n",
    "Incrementing by one gives 123 + 1 = 124.  \n",
    "Thus, the result should be [1,2,4].  \n",
    "\n",
    "**Example 2:**  \n",
    "\n",
    "Input: digits = [4,3,2,1]  \n",
    "Output: [4,3,2,2]  \n",
    "Explanation: The array represents the integer 4321.  \n",
    "Incrementing by one gives 4321 + 1 = 4322.  \n",
    "Thus, the result should be [4,3,2,2].  \n",
    "\n",
    "**Example 3:**  \n",
    "\n",
    "Input: digits = [9]  \n",
    "Output: [1,0]  \n",
    "Explanation: The array represents the integer 9.  \n",
    "Incrementing by one gives 9 + 1 = 10.  \n",
    "Thus, the result should be [1,0].  "
   ]
  },
  {
   "cell_type": "markdown",
   "id": "4206965c-370d-468c-a38d-b0838196f3d4",
   "metadata": {},
   "source": [
    "### Constraints"
   ]
  },
  {
   "cell_type": "markdown",
   "id": "fc4ae099-6815-4c43-b0b7-5c59fab48426",
   "metadata": {},
   "source": [
    "Constraints:\n",
    "\n",
    "- 1 <= digits.length <= 100\n",
    "- 0 <= digits[i] <= 9\n",
    "- digits does not contain any leading 0's."
   ]
  },
  {
   "cell_type": "markdown",
   "id": "2bfa2b77-5e27-4045-9c48-b54f968a1921",
   "metadata": {},
   "source": [
    "## Example test cases"
   ]
  },
  {
   "cell_type": "code",
   "execution_count": 1,
   "id": "bb2e880b-c5cc-4dd3-a439-960501a3e695",
   "metadata": {},
   "outputs": [],
   "source": [
    "def test_cases():\n",
    "    assert plusOne([1,2,3]) == [1,2,4]\n",
    "    assert plusOne([4,3,2,1]) == [4,3,2,2]\n",
    "    assert plusOne([9]) == [1,0]\n",
    "    print(\"All test cases passed!\")"
   ]
  },
  {
   "cell_type": "markdown",
   "id": "82ce7ac0-1452-4062-bb2c-22074c2dcdef",
   "metadata": {},
   "source": [
    "## Solutions"
   ]
  },
  {
   "cell_type": "markdown",
   "id": "4c1094f8-ca6e-4d21-93d5-76ce39b6ed57",
   "metadata": {},
   "source": [
    "$O(n)$"
   ]
  },
  {
   "cell_type": "markdown",
   "id": "25bc24be-1174-4cef-9e5f-19adf7d6d3fc",
   "metadata": {},
   "source": [
    "The problem here is when there are 9's at the end. This can be solved by changing 9s with 0s and adding 1 to the next element. So, a good idea is to iterate from the back. All 9s should be replaced with 0s and 1 should be transferred to the next digit."
   ]
  },
  {
   "cell_type": "code",
   "execution_count": 22,
   "id": "c4fc6d58-5aed-46a8-8c92-17a218f775a6",
   "metadata": {},
   "outputs": [],
   "source": [
    "def plusOne(l):\n",
    "    if l[-1] != 9:\n",
    "        l[-1] += 1\n",
    "        return l\n",
    "    else:\n",
    "        if len(l) == 1:\n",
    "            return [1, 0]\n",
    "        else:\n",
    "            pointer = -1\n",
    "            while pointer != -len(l):\n",
    "                if l[pointer] >= 9:\n",
    "                    l[pointer] = 0\n",
    "                    l[pointer-1] += 1\n",
    "                    pointer -= 1\n",
    "                else:\n",
    "                    break\n",
    "            if l[0] == 10:\n",
    "                l[0] = 0\n",
    "                return [1] + l\n",
    "\n",
    "    return l\n",
    "            "
   ]
  },
  {
   "cell_type": "code",
   "execution_count": 23,
   "id": "571e1ce5-42ec-4355-8f0e-6e0b11f6626f",
   "metadata": {},
   "outputs": [
    {
     "name": "stdout",
     "output_type": "stream",
     "text": [
      "All test cases passed!\n"
     ]
    }
   ],
   "source": [
    "test_cases()"
   ]
  },
  {
   "cell_type": "markdown",
   "id": "00532a7f-446e-4b1d-9958-e42c584c350b",
   "metadata": {},
   "source": [
    "For this solution, I was trying to replicate what I wrote above. Below, I just cleaned it."
   ]
  },
  {
   "cell_type": "code",
   "execution_count": 35,
   "id": "1f183e3e-0814-405d-9d12-3008651a8186",
   "metadata": {},
   "outputs": [],
   "source": [
    "def plusOne(l):\n",
    "    pointer = -1\n",
    "    while pointer != -len(l):\n",
    "\n",
    "        if l[pointer] + 1 != 10:\n",
    "            l[pointer] += 1\n",
    "            return l\n",
    "\n",
    "        l[pointer] = 0\n",
    "\n",
    "    return [1, 0] if pointer == -1 else [1] + l"
   ]
  },
  {
   "cell_type": "code",
   "execution_count": 36,
   "id": "9e71871f-7873-44d3-a1fc-6625e6a3ef42",
   "metadata": {},
   "outputs": [
    {
     "name": "stdout",
     "output_type": "stream",
     "text": [
      "All test cases passed!\n"
     ]
    }
   ],
   "source": [
    "test_cases()"
   ]
  }
 ],
 "metadata": {
  "kernelspec": {
   "display_name": "Python 3 (ipykernel)",
   "language": "python",
   "name": "python3"
  },
  "language_info": {
   "codemirror_mode": {
    "name": "ipython",
    "version": 3
   },
   "file_extension": ".py",
   "mimetype": "text/x-python",
   "name": "python",
   "nbconvert_exporter": "python",
   "pygments_lexer": "ipython3",
   "version": "3.11.9"
  }
 },
 "nbformat": 4,
 "nbformat_minor": 5
}
